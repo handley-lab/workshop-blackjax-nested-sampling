{
 "cells": [
  {
   "cell_type": "markdown",
   "id": "bec880df",
   "metadata": {},
   "source": [
    "# BlackJAX Nested Sampling Workshop\n",
    "\n",
    " This workshop demonstrates GPU-native nested sampling using BlackJAX. We'll progress through three examples: line fitting, 2D Gaussian inference, and performance comparisons with other samplers. The workshop showcases JAX's key strengths: automatic differentiation and JIT compilation for high-performance Bayesian inference."
   ]
  },
  {
   "cell_type": "code",
   "execution_count": 1,
   "id": "cd97fe8c",
   "metadata": {
    "execution": {
     "iopub.execute_input": "2025-05-29T13:49:10.145444Z",
     "iopub.status.busy": "2025-05-29T13:49:10.144870Z",
     "iopub.status.idle": "2025-05-29T13:49:13.524844Z",
     "shell.execute_reply": "2025-05-29T13:49:13.523729Z"
    }
   },
   "outputs": [
    {
     "name": "stdout",
     "output_type": "stream",
     "text": [
      "Collecting git+https://github.com/handley-lab/blackjax\r\n",
      "  Cloning https://github.com/handley-lab/blackjax to /tmp/pip-req-build-jzakxw9n\r\n",
      "  Running command git clone --filter=blob:none --quiet https://github.com/handley-lab/blackjax /tmp/pip-req-build-jzakxw9n\r\n"
     ]
    },
    {
     "name": "stdout",
     "output_type": "stream",
     "text": [
      "  Resolved https://github.com/handley-lab/blackjax to commit 41daed716462cc4b57af9da42aefb1eb27a532bb\r\n"
     ]
    },
    {
     "name": "stdout",
     "output_type": "stream",
     "text": [
      "  Installing build dependencies ... \u001b[?25l-"
     ]
    },
    {
     "name": "stdout",
     "output_type": "stream",
     "text": [
      "\b \b\\"
     ]
    },
    {
     "name": "stdout",
     "output_type": "stream",
     "text": [
      "\b \bdone\r\n"
     ]
    },
    {
     "name": "stdout",
     "output_type": "stream",
     "text": [
      "\u001b[?25h  Getting requirements to build wheel ... \u001b[?25l-"
     ]
    },
    {
     "name": "stdout",
     "output_type": "stream",
     "text": [
      "\b \bdone\r\n"
     ]
    },
    {
     "name": "stdout",
     "output_type": "stream",
     "text": [
      "\u001b[?25h  Preparing metadata (pyproject.toml) ... \u001b[?25l-"
     ]
    },
    {
     "name": "stdout",
     "output_type": "stream",
     "text": [
      "\b \bdone\r\n",
      "\u001b[?25hRequirement already satisfied: fastprogress>=1.0.0 in ./workshop_env/lib/python3.13/site-packages (from blackjax==0.1.dev704+g41daed7) (1.0.3)\r\n",
      "Requirement already satisfied: jax>=0.4.16 in ./workshop_env/lib/python3.13/site-packages (from blackjax==0.1.dev704+g41daed7) (0.6.1)\r\n",
      "Requirement already satisfied: jaxlib>=0.4.16 in ./workshop_env/lib/python3.13/site-packages (from blackjax==0.1.dev704+g41daed7) (0.6.1)\r\n",
      "Requirement already satisfied: jaxopt>=0.8 in ./workshop_env/lib/python3.13/site-packages (from blackjax==0.1.dev704+g41daed7) (0.8.3)\r\n",
      "Requirement already satisfied: optax>=0.1.7 in ./workshop_env/lib/python3.13/site-packages (from blackjax==0.1.dev704+g41daed7) (0.2.4)\r\n",
      "Requirement already satisfied: typing-extensions>=4.4.0 in ./workshop_env/lib/python3.13/site-packages (from blackjax==0.1.dev704+g41daed7) (4.13.2)\r\n",
      "Requirement already satisfied: ml_dtypes>=0.5.0 in ./workshop_env/lib/python3.13/site-packages (from jax>=0.4.16->blackjax==0.1.dev704+g41daed7) (0.5.1)\r\n",
      "Requirement already satisfied: numpy>=1.25 in ./workshop_env/lib/python3.13/site-packages (from jax>=0.4.16->blackjax==0.1.dev704+g41daed7) (2.2.6)\r\n",
      "Requirement already satisfied: opt_einsum in ./workshop_env/lib/python3.13/site-packages (from jax>=0.4.16->blackjax==0.1.dev704+g41daed7) (3.4.0)\r\n",
      "Requirement already satisfied: scipy>=1.11.1 in ./workshop_env/lib/python3.13/site-packages (from jax>=0.4.16->blackjax==0.1.dev704+g41daed7) (1.15.3)\r\n"
     ]
    },
    {
     "name": "stdout",
     "output_type": "stream",
     "text": [
      "Requirement already satisfied: absl-py>=0.7.1 in ./workshop_env/lib/python3.13/site-packages (from optax>=0.1.7->blackjax==0.1.dev704+g41daed7) (2.3.0)\r\n",
      "Requirement already satisfied: chex>=0.1.87 in ./workshop_env/lib/python3.13/site-packages (from optax>=0.1.7->blackjax==0.1.dev704+g41daed7) (0.1.89)\r\n",
      "Requirement already satisfied: etils[epy] in ./workshop_env/lib/python3.13/site-packages (from optax>=0.1.7->blackjax==0.1.dev704+g41daed7) (1.12.2)\r\n",
      "Requirement already satisfied: setuptools in ./workshop_env/lib/python3.13/site-packages (from chex>=0.1.87->optax>=0.1.7->blackjax==0.1.dev704+g41daed7) (80.9.0)\r\n",
      "Requirement already satisfied: toolz>=0.9.0 in ./workshop_env/lib/python3.13/site-packages (from chex>=0.1.87->optax>=0.1.7->blackjax==0.1.dev704+g41daed7) (1.0.0)\r\n"
     ]
    },
    {
     "name": "stdout",
     "output_type": "stream",
     "text": [
      "Requirement already satisfied: anesthetic in ./workshop_env/lib/python3.13/site-packages (2.10.0)\r\n",
      "Requirement already satisfied: tqdm in ./workshop_env/lib/python3.13/site-packages (4.67.1)\r\n",
      "Requirement already satisfied: scipy<2.0.0 in ./workshop_env/lib/python3.13/site-packages (from anesthetic) (1.15.3)\r\n",
      "Requirement already satisfied: numpy<3.0.0,>=1.26.0 in ./workshop_env/lib/python3.13/site-packages (from anesthetic) (2.2.6)\r\n",
      "Requirement already satisfied: pandas~=2.2.0 in ./workshop_env/lib/python3.13/site-packages (from anesthetic) (2.2.3)\r\n",
      "Requirement already satisfied: matplotlib<3.11.0,>=3.6.1 in ./workshop_env/lib/python3.13/site-packages (from anesthetic) (3.10.3)\r\n",
      "Requirement already satisfied: contourpy>=1.0.1 in ./workshop_env/lib/python3.13/site-packages (from matplotlib<3.11.0,>=3.6.1->anesthetic) (1.3.2)\r\n",
      "Requirement already satisfied: cycler>=0.10 in ./workshop_env/lib/python3.13/site-packages (from matplotlib<3.11.0,>=3.6.1->anesthetic) (0.12.1)\r\n",
      "Requirement already satisfied: fonttools>=4.22.0 in ./workshop_env/lib/python3.13/site-packages (from matplotlib<3.11.0,>=3.6.1->anesthetic) (4.58.1)\r\n",
      "Requirement already satisfied: kiwisolver>=1.3.1 in ./workshop_env/lib/python3.13/site-packages (from matplotlib<3.11.0,>=3.6.1->anesthetic) (1.4.8)\r\n",
      "Requirement already satisfied: packaging>=20.0 in ./workshop_env/lib/python3.13/site-packages (from matplotlib<3.11.0,>=3.6.1->anesthetic) (25.0)\r\n",
      "Requirement already satisfied: pillow>=8 in ./workshop_env/lib/python3.13/site-packages (from matplotlib<3.11.0,>=3.6.1->anesthetic) (11.2.1)\r\n",
      "Requirement already satisfied: pyparsing>=2.3.1 in ./workshop_env/lib/python3.13/site-packages (from matplotlib<3.11.0,>=3.6.1->anesthetic) (3.2.3)\r\n",
      "Requirement already satisfied: python-dateutil>=2.7 in ./workshop_env/lib/python3.13/site-packages (from matplotlib<3.11.0,>=3.6.1->anesthetic) (2.9.0.post0)\r\n",
      "Requirement already satisfied: pytz>=2020.1 in ./workshop_env/lib/python3.13/site-packages (from pandas~=2.2.0->anesthetic) (2025.2)\r\n",
      "Requirement already satisfied: tzdata>=2022.7 in ./workshop_env/lib/python3.13/site-packages (from pandas~=2.2.0->anesthetic) (2025.2)\r\n",
      "Requirement already satisfied: six>=1.5 in ./workshop_env/lib/python3.13/site-packages (from python-dateutil>=2.7->matplotlib<3.11.0,>=3.6.1->anesthetic) (1.17.0)\r\n"
     ]
    }
   ],
   "source": [
    "# Install required packages for Google Colab\n",
    "!pip install git+https://github.com/handley-lab/blackjax\n",
    "!pip install anesthetic tqdm"
   ]
  },
  {
   "cell_type": "markdown",
   "id": "1d62f2a1",
   "metadata": {},
   "source": [
    "**Note**: The cell above installs the required packages. In Google Colab, this may take 1-2 minutes and will show some warnings - this is normal!"
   ]
  },
  {
   "cell_type": "markdown",
   "id": "f59886d5",
   "metadata": {},
   "source": [
    "## Installation for Google Colab\n",
    "```bash\n",
    " pip install git+https://github.com/handley-lab/blackjax@nested_sampling\n",
    " pip install anesthetic tqdm\n",
    "```"
   ]
  },
  {
   "cell_type": "code",
   "execution_count": 2,
   "id": "71040c4e",
   "metadata": {
    "execution": {
     "iopub.execute_input": "2025-05-29T13:49:13.529679Z",
     "iopub.status.busy": "2025-05-29T13:49:13.529241Z",
     "iopub.status.idle": "2025-05-29T13:49:13.810469Z",
     "shell.execute_reply": "2025-05-29T13:49:13.810089Z"
    }
   },
   "outputs": [],
   "source": [
    "import jax"
   ]
  },
  {
   "cell_type": "markdown",
   "id": "356cb289",
   "metadata": {},
   "source": [
    "Configure JAX immediately after import"
   ]
  },
  {
   "cell_type": "code",
   "execution_count": 3,
   "id": "b29e0e37",
   "metadata": {
    "execution": {
     "iopub.execute_input": "2025-05-29T13:49:13.811951Z",
     "iopub.status.busy": "2025-05-29T13:49:13.811771Z",
     "iopub.status.idle": "2025-05-29T13:49:14.727843Z",
     "shell.execute_reply": "2025-05-29T13:49:14.727376Z"
    }
   },
   "outputs": [],
   "source": [
    "jax.config.update(\"jax_enable_x64\", True)\n",
    "\n",
    "import jax.numpy as jnp\n",
    "import numpy as np\n",
    "import matplotlib.pyplot as plt\n",
    "import tqdm\n",
    "import time\n",
    "import blackjax\n",
    "from anesthetic import NestedSamples"
   ]
  },
  {
   "cell_type": "markdown",
   "id": "5512e05d",
   "metadata": {},
   "source": [
    "## Part 1: Line Fitting with Nested Sampling\n",
    "\n",
    " We start with the classic problem of fitting a linear model y = mx + c to noisy data.\n",
    " This introduces the basic nested sampling workflow in BlackJAX."
   ]
  },
  {
   "cell_type": "markdown",
   "id": "afade7e5",
   "metadata": {},
   "source": [
    "### 1.1 Nested Sampling Configuration\n",
    " \n",
    " Key parameters for workshop timing and educational value:\n",
    " - `num_live=100`: Fast convergence for workshop setting\n",
    " - `num_delete=50`: Parallelization parameter\n",
    " - `num_inner_steps`: Reliability parameter (rule of thumb: 5 * num_dims)"
   ]
  },
  {
   "cell_type": "code",
   "execution_count": 4,
   "id": "27641dbe",
   "metadata": {
    "execution": {
     "iopub.execute_input": "2025-05-29T13:49:14.729734Z",
     "iopub.status.busy": "2025-05-29T13:49:14.729486Z",
     "iopub.status.idle": "2025-05-29T13:49:14.757572Z",
     "shell.execute_reply": "2025-05-29T13:49:14.757195Z"
    }
   },
   "outputs": [],
   "source": [
    "rng_key = jax.random.PRNGKey(42)\n",
    "num_live = 100\n",
    "num_delete = 50"
   ]
  },
  {
   "cell_type": "markdown",
   "id": "d31615fd",
   "metadata": {},
   "source": [
    "### 1.2 Generate Synthetic Line Data\n",
    "\n",
    " True model: y = 2x + 1 + noise, with σ = 0.5"
   ]
  },
  {
   "cell_type": "code",
   "execution_count": 5,
   "id": "07dd2146",
   "metadata": {
    "execution": {
     "iopub.execute_input": "2025-05-29T13:49:14.759299Z",
     "iopub.status.busy": "2025-05-29T13:49:14.759155Z",
     "iopub.status.idle": "2025-05-29T13:49:14.991625Z",
     "shell.execute_reply": "2025-05-29T13:49:14.991237Z"
    }
   },
   "outputs": [],
   "source": [
    "num_data = 15\n",
    "x = jnp.linspace(-2.0, 2.0, num_data)\n",
    "true = {'m': 2.0, 'c': 1.0, 'sigma': 0.5}\n",
    "\n",
    "key, rng_key = jax.random.split(rng_key)\n",
    "noise = true['sigma'] * jax.random.normal(key, (num_data,))\n",
    "y = true['m'] * x + true['c'] + noise"
   ]
  },
  {
   "cell_type": "markdown",
   "id": "2111e8c8",
   "metadata": {},
   "source": [
    "Visualize the data"
   ]
  },
  {
   "cell_type": "code",
   "execution_count": 6,
   "id": "7a58f6c5",
   "metadata": {
    "execution": {
     "iopub.execute_input": "2025-05-29T13:49:14.993563Z",
     "iopub.status.busy": "2025-05-29T13:49:14.993411Z",
     "iopub.status.idle": "2025-05-29T13:49:15.016159Z",
     "shell.execute_reply": "2025-05-29T13:49:15.015723Z"
    }
   },
   "outputs": [
    {
     "data": {
      "text/plain": [
       "Text(0.5, 1.0, 'Linear Model: Bayesian Parameter Estimation')"
      ]
     },
     "execution_count": 6,
     "metadata": {},
     "output_type": "execute_result"
    }
   ],
   "source": [
    "fig, ax = plt.subplots(figsize=(8, 5))\n",
    "ax.errorbar(x, y, yerr=true['sigma'], fmt=\"o\", label=\"Observed data\", color='black')\n",
    "ax.plot(x, true['m'] * x + true['c'], '--', label=\"True model\", color='red', alpha=0.7)\n",
    "ax.set_xlabel(\"x\")\n",
    "ax.set_ylabel(\"y\")\n",
    "ax.legend()\n",
    "ax.set_title(\"Linear Model: Bayesian Parameter Estimation\")"
   ]
  },
  {
   "cell_type": "markdown",
   "id": "84d8aed5",
   "metadata": {},
   "source": [
    "### 1.3 Define Likelihood Function\n",
    "\n",
    " Gaussian likelihood with unknown slope, intercept, and noise level"
   ]
  },
  {
   "cell_type": "code",
   "execution_count": 7,
   "id": "f6054c45",
   "metadata": {
    "execution": {
     "iopub.execute_input": "2025-05-29T13:49:15.017717Z",
     "iopub.status.busy": "2025-05-29T13:49:15.017532Z",
     "iopub.status.idle": "2025-05-29T13:49:15.020064Z",
     "shell.execute_reply": "2025-05-29T13:49:15.019711Z"
    }
   },
   "outputs": [],
   "source": [
    "def line_loglikelihood(params):\n",
    "    \"\"\"Log-likelihood for linear model with Gaussian noise.\"\"\"\n",
    "    m, c, sigma = params[\"m\"], params[\"c\"], params[\"sigma\"]\n",
    "    y_model = m * x + c\n",
    "    # Vectorized normal log-likelihood\n",
    "    return jax.scipy.stats.multivariate_normal.logpdf(y, y_model, sigma**2)"
   ]
  },
  {
   "cell_type": "markdown",
   "id": "2135b0cf",
   "metadata": {},
   "source": [
    "### 1.4 Define Prior Distributions"
   ]
  },
  {
   "cell_type": "code",
   "execution_count": 8,
   "id": "e3a7dd03",
   "metadata": {
    "execution": {
     "iopub.execute_input": "2025-05-29T13:49:15.021449Z",
     "iopub.status.busy": "2025-05-29T13:49:15.021309Z",
     "iopub.status.idle": "2025-05-29T13:49:15.023818Z",
     "shell.execute_reply": "2025-05-29T13:49:15.023452Z"
    }
   },
   "outputs": [],
   "source": [
    "prior_bounds = {\n",
    "    \"m\": (-5.0, 5.0),      # slope\n",
    "    \"c\": (-5.0, 5.0),      # intercept  \n",
    "    \"sigma\": (0.1, 2.0),   # noise level (positive)\n",
    "}\n",
    "\n",
    "num_dims = len(prior_bounds)\n",
    "num_inner_steps = num_dims * 5"
   ]
  },
  {
   "cell_type": "markdown",
   "id": "cbd8fb3e",
   "metadata": {},
   "source": [
    "### 1.5 Initialize Nested Sampler"
   ]
  },
  {
   "cell_type": "code",
   "execution_count": 9,
   "id": "81ce54e9",
   "metadata": {
    "execution": {
     "iopub.execute_input": "2025-05-29T13:49:15.025601Z",
     "iopub.status.busy": "2025-05-29T13:49:15.025367Z",
     "iopub.status.idle": "2025-05-29T13:49:15.475411Z",
     "shell.execute_reply": "2025-05-29T13:49:15.474928Z"
    }
   },
   "outputs": [
    {
     "name": "stdout",
     "output_type": "stream",
     "text": [
      "Initialized nested sampler with 100 live points\n"
     ]
    }
   ],
   "source": [
    "rng_key, prior_key = jax.random.split(rng_key)\n",
    "particles, logprior_fn = blackjax.ns.utils.uniform_prior(prior_key, num_live, prior_bounds)\n",
    "\n",
    "nested_sampler = blackjax.nss(\n",
    "    logprior_fn=logprior_fn,\n",
    "    loglikelihood_fn=line_loglikelihood,\n",
    "    num_delete=num_delete,\n",
    "    num_inner_steps=num_inner_steps,\n",
    ")\n",
    "print(f\"Initialized nested sampler with {num_live} live points\")"
   ]
  },
  {
   "cell_type": "markdown",
   "id": "fd798df7",
   "metadata": {},
   "source": [
    "### 1.6 JIT Compile for Performance"
   ]
  },
  {
   "cell_type": "code",
   "execution_count": 10,
   "id": "03b7ecbe",
   "metadata": {
    "execution": {
     "iopub.execute_input": "2025-05-29T13:49:15.477092Z",
     "iopub.status.busy": "2025-05-29T13:49:15.476915Z",
     "iopub.status.idle": "2025-05-29T13:49:15.479831Z",
     "shell.execute_reply": "2025-05-29T13:49:15.479405Z"
    }
   },
   "outputs": [
    {
     "name": "stdout",
     "output_type": "stream",
     "text": [
      "Functions compiled - ready to run!\n"
     ]
    }
   ],
   "source": [
    "init_fn = jax.jit(nested_sampler.init)\n",
    "step_fn = jax.jit(nested_sampler.step)\n",
    "print(\"Functions compiled - ready to run!\")"
   ]
  },
  {
   "cell_type": "markdown",
   "id": "81e5ed7e",
   "metadata": {},
   "source": [
    "### 1.7 Run the Nested Sampling"
   ]
  },
  {
   "cell_type": "code",
   "execution_count": 11,
   "id": "01b079ea",
   "metadata": {
    "execution": {
     "iopub.execute_input": "2025-05-29T13:49:15.481348Z",
     "iopub.status.busy": "2025-05-29T13:49:15.481203Z",
     "iopub.status.idle": "2025-05-29T13:49:17.911180Z",
     "shell.execute_reply": "2025-05-29T13:49:17.910639Z"
    }
   },
   "outputs": [
    {
     "name": "stdout",
     "output_type": "stream",
     "text": [
      "Running nested sampling for line fitting...\n"
     ]
    },
    {
     "name": "stderr",
     "output_type": "stream",
     "text": [
      "\r",
      "Dead points: 0 dead points [00:00, ? dead points/s]"
     ]
    },
    {
     "name": "stderr",
     "output_type": "stream",
     "text": [
      "\r",
      "Dead points: 50 dead points [00:02, 25.00 dead points/s]"
     ]
    },
    {
     "name": "stderr",
     "output_type": "stream",
     "text": [
      "\r",
      "Dead points: 900 dead points [00:02, 441.42 dead points/s]"
     ]
    },
    {
     "name": "stderr",
     "output_type": "stream",
     "text": [
      "\n"
     ]
    }
   ],
   "source": [
    "print(\"Running nested sampling for line fitting...\")\n",
    "ns_start = time.time()\n",
    "live = init_fn(particles)\n",
    "dead = []\n",
    "\n",
    "with tqdm.tqdm(desc=\"Dead points\", unit=\" dead points\") as pbar:\n",
    "    while not live.logZ_live - live.logZ < -3:  # Convergence criterion\n",
    "        rng_key, subkey = jax.random.split(rng_key, 2)\n",
    "        live, dead_info = step_fn(subkey, live)\n",
    "        dead.append(dead_info)\n",
    "        pbar.update(num_delete)\n",
    "\n",
    "dead = blackjax.ns.utils.finalise(live, dead)\n",
    "ns_time = time.time() - ns_start"
   ]
  },
  {
   "cell_type": "markdown",
   "id": "d7705aee",
   "metadata": {},
   "source": [
    "### 1.8 Process Results with Anesthetic"
   ]
  },
  {
   "cell_type": "code",
   "execution_count": 12,
   "id": "24634f79",
   "metadata": {
    "execution": {
     "iopub.execute_input": "2025-05-29T13:49:17.913323Z",
     "iopub.status.busy": "2025-05-29T13:49:17.913068Z",
     "iopub.status.idle": "2025-05-29T13:49:17.997853Z",
     "shell.execute_reply": "2025-05-29T13:49:17.997433Z"
    }
   },
   "outputs": [],
   "source": [
    "columns = [\"m\", \"c\", \"sigma\"]\n",
    "labels = [r\"$m$\", r\"$c$\", r\"$\\sigma$\"]\n",
    "data = jnp.vstack([dead.particles[key] for key in columns]).T\n",
    "\n",
    "line_samples = NestedSamples(\n",
    "    data,\n",
    "    logL=dead.loglikelihood,\n",
    "    logL_birth=dead.loglikelihood_birth,\n",
    "    columns=columns,\n",
    "    labels=labels,\n",
    "    logzero=jnp.nan,\n",
    ")"
   ]
  },
  {
   "cell_type": "markdown",
   "id": "150f10ce",
   "metadata": {},
   "source": [
    "### 1.9 Results Analysis and Visualization"
   ]
  },
  {
   "cell_type": "code",
   "execution_count": 13,
   "id": "42dcf2ba",
   "metadata": {
    "execution": {
     "iopub.execute_input": "2025-05-29T13:49:17.999402Z",
     "iopub.status.busy": "2025-05-29T13:49:17.999263Z",
     "iopub.status.idle": "2025-05-29T13:49:18.856871Z",
     "shell.execute_reply": "2025-05-29T13:49:18.856478Z"
    }
   },
   "outputs": [
    {
     "name": "stdout",
     "output_type": "stream",
     "text": [
      "Nested sampling runtime: 2.43 seconds\n",
      "Log Evidence: -20.05 ± 0.35\n",
      "True parameters: m=2.0, c=1.0, σ=0.5\n",
      "Posterior means: m=1.97, c=1.11, σ=0.60\n"
     ]
    },
    {
     "data": {
      "text/plain": [
       "Text(0.5, 0.98, 'Line Fitting: Posterior Distributions')"
      ]
     },
     "execution_count": 13,
     "metadata": {},
     "output_type": "execute_result"
    }
   ],
   "source": [
    "print(f\"Nested sampling runtime: {ns_time:.2f} seconds\")\n",
    "print(f\"Log Evidence: {line_samples.logZ():.2f} ± {line_samples.logZ(100).std():.2f}\")\n",
    "print(f\"True parameters: m={true['m']}, c={true['c']}, σ={true['sigma']}\")\n",
    "print(f\"Posterior means: m={line_samples.m.mean():.2f}, c={line_samples.c.mean():.2f}, σ={line_samples.sigma.mean():.2f}\")\n",
    "\n",
    "# Create posterior corner plot with true values marked\n",
    "kinds = {'lower': 'kde_2d', 'diagonal': 'hist_1d', 'upper': 'scatter_2d'}\n",
    "axes = line_samples.plot_2d(columns, kinds=kinds, label='Posterior')\n",
    "axes.axlines(true, color='red', linestyle='--', alpha=0.8)\n",
    "plt.suptitle(\"Line Fitting: Posterior Distributions\")"
   ]
  },
  {
   "cell_type": "markdown",
   "id": "dd6c2b53",
   "metadata": {},
   "source": [
    "## Part 2: 2D Gaussian Parameter Inference\n",
    "\n",
    " Now we tackle a more complex problem: inferring the parameters of a 2D Gaussian distribution\n",
    " including the correlation coefficient. This demonstrates parameter transforms and constrained sampling."
   ]
  },
  {
   "cell_type": "markdown",
   "id": "3cdb7c37",
   "metadata": {},
   "source": [
    "### 2.1 Define 2D Gaussian Parameters"
   ]
  },
  {
   "cell_type": "code",
   "execution_count": 14,
   "id": "2514f4fb",
   "metadata": {
    "execution": {
     "iopub.execute_input": "2025-05-29T13:49:18.858434Z",
     "iopub.status.busy": "2025-05-29T13:49:18.858287Z",
     "iopub.status.idle": "2025-05-29T13:49:18.861214Z",
     "shell.execute_reply": "2025-05-29T13:49:18.860841Z"
    }
   },
   "outputs": [
    {
     "name": "stdout",
     "output_type": "stream",
     "text": [
      "True parameters: {'mu1': 1.0, 'mu2': -0.5, 'sigma1': 1.2, 'sigma2': 0.8, 'rho': 0.6}\n"
     ]
    }
   ],
   "source": [
    "true.update({\n",
    "    'mu1': 1.0, 'mu2': -0.5,\n",
    "    'sigma1': 1.2, 'sigma2': 0.8, \n",
    "    'rho': 0.6\n",
    "})\n",
    "print(\"True parameters:\", {k: v for k, v in true.items() if k in ['mu1', 'mu2', 'sigma1', 'sigma2', 'rho']})"
   ]
  },
  {
   "cell_type": "markdown",
   "id": "8e2bd044",
   "metadata": {},
   "source": [
    "### 2.2 Generate Correlated 2D Data"
   ]
  },
  {
   "cell_type": "code",
   "execution_count": 15,
   "id": "96206516",
   "metadata": {
    "execution": {
     "iopub.execute_input": "2025-05-29T13:49:18.862778Z",
     "iopub.status.busy": "2025-05-29T13:49:18.862548Z",
     "iopub.status.idle": "2025-05-29T13:49:19.092087Z",
     "shell.execute_reply": "2025-05-29T13:49:19.091620Z"
    }
   },
   "outputs": [
    {
     "name": "stdout",
     "output_type": "stream",
     "text": [
      "Generated 200 correlated 2D samples\n"
     ]
    },
    {
     "name": "stdout",
     "output_type": "stream",
     "text": [
      "Sample mean: [1.06, -0.39]\n"
     ]
    }
   ],
   "source": [
    "true_mu = jnp.array([true['mu1'], true['mu2']])\n",
    "true_cov = jnp.array([\n",
    "    [true['sigma1']**2, true['rho'] * true['sigma1'] * true['sigma2']],\n",
    "    [true['rho'] * true['sigma1'] * true['sigma2'], true['sigma2']**2]\n",
    "])\n",
    "\n",
    "num_samples = 200\n",
    "key, rng_key = jax.random.split(rng_key)\n",
    "gaussian_data = jax.random.multivariate_normal(key, true_mu, true_cov, (num_samples,))\n",
    "\n",
    "print(f\"Generated {num_samples} correlated 2D samples\")\n",
    "print(f\"Sample mean: [{gaussian_data.mean(0)[0]:.2f}, {gaussian_data.mean(0)[1]:.2f}]\")"
   ]
  },
  {
   "cell_type": "markdown",
   "id": "38e54e42",
   "metadata": {},
   "source": [
    "### 2.3 Visualize the 2D Data"
   ]
  },
  {
   "cell_type": "code",
   "execution_count": 16,
   "id": "1d777f52",
   "metadata": {
    "execution": {
     "iopub.execute_input": "2025-05-29T13:49:19.093704Z",
     "iopub.status.busy": "2025-05-29T13:49:19.093508Z",
     "iopub.status.idle": "2025-05-29T13:49:19.271054Z",
     "shell.execute_reply": "2025-05-29T13:49:19.270679Z"
    }
   },
   "outputs": [],
   "source": [
    "fig, ax = plt.subplots(figsize=(8, 6))\n",
    "ax.scatter(gaussian_data[:, 0], gaussian_data[:, 1], alpha=0.6, s=20)\n",
    "ax.set_xlabel(r\"$x_1$\")\n",
    "ax.set_ylabel(r\"$x_2$\")\n",
    "ax.set_title(\"2D Gaussian Data\")\n",
    "ax.grid(True, alpha=0.3)"
   ]
  },
  {
   "cell_type": "markdown",
   "id": "df02728a",
   "metadata": {},
   "source": [
    "### 2.4 Define Likelihood with Parameter Transforms\n",
    "\n",
    " We use arctanh/tanh transform for the correlation coefficient to enforce |ρ| < 1"
   ]
  },
  {
   "cell_type": "code",
   "execution_count": 17,
   "id": "a75b284c",
   "metadata": {
    "execution": {
     "iopub.execute_input": "2025-05-29T13:49:19.272956Z",
     "iopub.status.busy": "2025-05-29T13:49:19.272577Z",
     "iopub.status.idle": "2025-05-29T13:49:19.277012Z",
     "shell.execute_reply": "2025-05-29T13:49:19.276522Z"
    }
   },
   "outputs": [],
   "source": [
    "def gaussian_2d_loglikelihood(params):\n",
    "    \"\"\"Log-likelihood for 2D Gaussian with correlation.\"\"\"\n",
    "    mu1, mu2 = params[\"mu1\"], params[\"mu2\"]\n",
    "    sigma1, sigma2 = params[\"sigma1\"], params[\"sigma2\"]\n",
    "    rho_transformed = params[\"rho_t\"]\n",
    "    \n",
    "    # Transform correlation coefficient: rho = tanh(rho_t)\n",
    "    rho = jnp.tanh(rho_transformed)\n",
    "    \n",
    "    # Construct covariance matrix\n",
    "    cov = jnp.array([\n",
    "        [sigma1**2, rho * sigma1 * sigma2],\n",
    "        [rho * sigma1 * sigma2, sigma2**2]\n",
    "    ])\n",
    "    \n",
    "    # Check positive definiteness\n",
    "    det = jnp.linalg.det(cov)\n",
    "    \n",
    "    # Return -inf for invalid covariance matrices\n",
    "    def valid_loglik():\n",
    "        mu = jnp.array([mu1, mu2])\n",
    "        return jnp.sum(jax.scipy.stats.multivariate_normal.logpdf(gaussian_data, mu, cov))\n",
    "    \n",
    "    def invalid_loglik():\n",
    "        return -jnp.inf\n",
    "    \n",
    "    return jax.lax.cond(det > 1e-8, valid_loglik, invalid_loglik)"
   ]
  },
  {
   "cell_type": "markdown",
   "id": "a9fefba5",
   "metadata": {},
   "source": [
    "### 2.5 Set Up Priors for 2D Gaussian"
   ]
  },
  {
   "cell_type": "code",
   "execution_count": 18,
   "id": "84ad714b",
   "metadata": {
    "execution": {
     "iopub.execute_input": "2025-05-29T13:49:19.278638Z",
     "iopub.status.busy": "2025-05-29T13:49:19.278494Z",
     "iopub.status.idle": "2025-05-29T13:49:19.281498Z",
     "shell.execute_reply": "2025-05-29T13:49:19.280940Z"
    }
   },
   "outputs": [],
   "source": [
    "gaussian_prior_bounds = {\n",
    "    \"mu1\": (-3.0, 5.0),\n",
    "    \"mu2\": (-3.0, 3.0), \n",
    "    \"sigma1\": (0.1, 3.0),\n",
    "    \"sigma2\": (0.1, 3.0),\n",
    "    \"rho_t\": (-2.0, 2.0),  # transformed correlation: rho = tanh(rho_t)\n",
    "}\n",
    "\n",
    "num_dims_2d = len(gaussian_prior_bounds)\n",
    "num_inner_steps_2d = num_dims_2d * 5"
   ]
  },
  {
   "cell_type": "markdown",
   "id": "bd726d98",
   "metadata": {},
   "source": [
    "### 2.6 Initialize and Run Nested Sampling"
   ]
  },
  {
   "cell_type": "code",
   "execution_count": 19,
   "id": "3ebb086f",
   "metadata": {
    "execution": {
     "iopub.execute_input": "2025-05-29T13:49:19.282897Z",
     "iopub.status.busy": "2025-05-29T13:49:19.282740Z",
     "iopub.status.idle": "2025-05-29T13:49:23.421219Z",
     "shell.execute_reply": "2025-05-29T13:49:23.420614Z"
    }
   },
   "outputs": [
    {
     "name": "stdout",
     "output_type": "stream",
     "text": [
      "Running nested sampling for 2D Gaussian...\n"
     ]
    },
    {
     "name": "stderr",
     "output_type": "stream",
     "text": [
      "\r",
      "Dead points: 0 dead points [00:00, ? dead points/s]"
     ]
    },
    {
     "name": "stderr",
     "output_type": "stream",
     "text": [
      "\r",
      "Dead points: 50 dead points [00:02, 21.49 dead points/s]"
     ]
    },
    {
     "name": "stderr",
     "output_type": "stream",
     "text": [
      "\r",
      "Dead points: 200 dead points [00:02, 105.68 dead points/s]"
     ]
    },
    {
     "name": "stderr",
     "output_type": "stream",
     "text": [
      "\r",
      "Dead points: 350 dead points [00:02, 208.69 dead points/s]"
     ]
    },
    {
     "name": "stderr",
     "output_type": "stream",
     "text": [
      "\r",
      "Dead points: 500 dead points [00:02, 329.62 dead points/s]"
     ]
    },
    {
     "name": "stderr",
     "output_type": "stream",
     "text": [
      "\r",
      "Dead points: 650 dead points [00:02, 464.56 dead points/s]"
     ]
    },
    {
     "name": "stderr",
     "output_type": "stream",
     "text": [
      "\r",
      "Dead points: 800 dead points [00:02, 606.73 dead points/s]"
     ]
    },
    {
     "name": "stderr",
     "output_type": "stream",
     "text": [
      "\r",
      "Dead points: 950 dead points [00:03, 734.49 dead points/s]"
     ]
    },
    {
     "name": "stderr",
     "output_type": "stream",
     "text": [
      "\r",
      "Dead points: 1100 dead points [00:03, 864.20 dead points/s]"
     ]
    },
    {
     "name": "stderr",
     "output_type": "stream",
     "text": [
      "\r",
      "Dead points: 1250 dead points [00:03, 986.10 dead points/s]"
     ]
    },
    {
     "name": "stderr",
     "output_type": "stream",
     "text": [
      "\r",
      "Dead points: 1400 dead points [00:03, 1082.09 dead points/s]"
     ]
    },
    {
     "name": "stderr",
     "output_type": "stream",
     "text": [
      "\r",
      "Dead points: 1400 dead points [00:03, 415.12 dead points/s] "
     ]
    },
    {
     "name": "stderr",
     "output_type": "stream",
     "text": [
      "\n"
     ]
    }
   ],
   "source": [
    "rng_key, prior_key = jax.random.split(rng_key)\n",
    "particles_2d, logprior_fn_2d = blackjax.ns.utils.uniform_prior(prior_key, num_live, gaussian_prior_bounds)\n",
    "\n",
    "nested_sampler_2d = blackjax.nss(\n",
    "    logprior_fn=logprior_fn_2d,\n",
    "    loglikelihood_fn=gaussian_2d_loglikelihood,\n",
    "    num_delete=num_delete,\n",
    "    num_inner_steps=num_inner_steps_2d,\n",
    ")\n",
    "\n",
    "init_fn_2d = jax.jit(nested_sampler_2d.init)\n",
    "step_fn_2d = jax.jit(nested_sampler_2d.step)\n",
    "\n",
    "print(\"Running nested sampling for 2D Gaussian...\")\n",
    "live_2d = init_fn_2d(particles_2d)\n",
    "dead_2d = []\n",
    "\n",
    "with tqdm.tqdm(desc=\"Dead points\", unit=\" dead points\") as pbar:\n",
    "    while not live_2d.logZ_live - live_2d.logZ < -3:\n",
    "        rng_key, subkey = jax.random.split(rng_key, 2)\n",
    "        live_2d, dead_info_2d = step_fn_2d(subkey, live_2d)\n",
    "        dead_2d.append(dead_info_2d)\n",
    "        pbar.update(num_delete)\n",
    "\n",
    "dead_2d = blackjax.ns.utils.finalise(live_2d, dead_2d)"
   ]
  },
  {
   "cell_type": "markdown",
   "id": "3f36007f",
   "metadata": {},
   "source": [
    "### 2.7 Transform Back and Analyze Results"
   ]
  },
  {
   "cell_type": "code",
   "execution_count": 20,
   "id": "5c7c5da3",
   "metadata": {
    "execution": {
     "iopub.execute_input": "2025-05-29T13:49:23.423258Z",
     "iopub.status.busy": "2025-05-29T13:49:23.423080Z",
     "iopub.status.idle": "2025-05-29T13:49:23.510690Z",
     "shell.execute_reply": "2025-05-29T13:49:23.510321Z"
    }
   },
   "outputs": [],
   "source": [
    "columns_2d = [\"mu1\", \"mu2\", \"sigma1\", \"sigma2\", \"rho_t\"]\n",
    "labels_2d = [r\"$\\mu_1$\", r\"$\\mu_2$\", r\"$\\sigma_1$\", r\"$\\sigma_2$\", r\"$\\rho_t$\"]\n",
    "data_2d = jnp.vstack([dead_2d.particles[key] for key in columns_2d]).T\n",
    "\n",
    "gaussian_samples = NestedSamples(\n",
    "    data_2d,\n",
    "    logL=dead_2d.loglikelihood,\n",
    "    logL_birth=dead_2d.loglikelihood_birth,\n",
    "    columns=columns_2d,\n",
    "    labels=labels_2d,\n",
    "    logzero=jnp.nan,\n",
    ")"
   ]
  },
  {
   "cell_type": "markdown",
   "id": "234998fc",
   "metadata": {},
   "source": [
    "Add transformed correlation coefficient"
   ]
  },
  {
   "cell_type": "code",
   "execution_count": 21,
   "id": "1746a2b5",
   "metadata": {
    "execution": {
     "iopub.execute_input": "2025-05-29T13:49:23.512312Z",
     "iopub.status.busy": "2025-05-29T13:49:23.512146Z",
     "iopub.status.idle": "2025-05-29T13:49:23.594365Z",
     "shell.execute_reply": "2025-05-29T13:49:23.593817Z"
    }
   },
   "outputs": [
    {
     "name": "stdout",
     "output_type": "stream",
     "text": [
      "Log Evidence: -528.61 ± 0.43\n",
      "True parameters: μ₁=1.00, μ₂=-0.50, σ₁=1.20, σ₂=0.80, ρ=0.60\n",
      "Posterior means: μ₁=1.06, μ₂=-0.38, σ₁=1.27, σ₂=0.80, ρ=0.64\n"
     ]
    }
   ],
   "source": [
    "gaussian_samples[\"rho\"] = jnp.tanh(gaussian_samples[\"rho_t\"].values)\n",
    "\n",
    "print(f\"Log Evidence: {gaussian_samples.logZ():.2f} ± {gaussian_samples.logZ(100).std():.2f}\")\n",
    "print(f\"True parameters: μ₁={true['mu1']:.2f}, μ₂={true['mu2']:.2f}, σ₁={true['sigma1']:.2f}, σ₂={true['sigma2']:.2f}, ρ={true['rho']:.2f}\")\n",
    "print(f\"Posterior means: μ₁={gaussian_samples.mu1.mean():.2f}, μ₂={gaussian_samples.mu2.mean():.2f}, σ₁={gaussian_samples.sigma1.mean():.2f}, σ₂={gaussian_samples.sigma2.mean():.2f}, ρ={gaussian_samples.rho.mean():.2f}\")"
   ]
  },
  {
   "cell_type": "markdown",
   "id": "6e83bf6d",
   "metadata": {},
   "source": [
    "Plot posterior for key parameters with true values"
   ]
  },
  {
   "cell_type": "code",
   "execution_count": 22,
   "id": "eee5df6f",
   "metadata": {
    "execution": {
     "iopub.execute_input": "2025-05-29T13:49:23.595884Z",
     "iopub.status.busy": "2025-05-29T13:49:23.595744Z",
     "iopub.status.idle": "2025-05-29T13:49:25.415885Z",
     "shell.execute_reply": "2025-05-29T13:49:25.415396Z"
    }
   },
   "outputs": [
    {
     "data": {
      "text/plain": [
       "Text(0.5, 0.98, '2D Gaussian: Posterior Parameter Estimates')"
      ]
     },
     "execution_count": 22,
     "metadata": {},
     "output_type": "execute_result"
    }
   ],
   "source": [
    "key_params = [\"mu1\", \"mu2\", \"sigma1\", \"sigma2\", \"rho\"]\n",
    "axes = gaussian_samples[key_params].plot_2d(key_params, kinds={'diagonal': 'hist_1d', 'lower': 'kde_2d'})\n",
    "\n",
    "# Mark true values using anesthetic's axlines method\n",
    "true_2d = {k: true[k] for k in key_params}\n",
    "axes.axlines(true_2d, color='red', linestyle='--', alpha=0.8)\n",
    "plt.suptitle(\"2D Gaussian: Posterior Parameter Estimates\")"
   ]
  },
  {
   "cell_type": "markdown",
   "id": "e29ffddd",
   "metadata": {},
   "source": [
    "## Part 3: Performance Comparison\n",
    "\n",
    " Compare BlackJAX nested sampling with NUTS (No-U-Turn Sampler) and \n",
    " Affine Invariant Ensemble Sampler on the line fitting problem"
   ]
  },
  {
   "cell_type": "code",
   "execution_count": 23,
   "id": "d368fe3f",
   "metadata": {
    "execution": {
     "iopub.execute_input": "2025-05-29T13:49:25.417515Z",
     "iopub.status.busy": "2025-05-29T13:49:25.417372Z",
     "iopub.status.idle": "2025-05-29T13:49:25.419419Z",
     "shell.execute_reply": "2025-05-29T13:49:25.419094Z"
    }
   },
   "outputs": [],
   "source": [
    "import time"
   ]
  },
  {
   "cell_type": "markdown",
   "id": "11feb010",
   "metadata": {},
   "source": [
    "### 3.1 Define NUTS Log-Probability Function"
   ]
  },
  {
   "cell_type": "code",
   "execution_count": 24,
   "id": "b0914b77",
   "metadata": {
    "execution": {
     "iopub.execute_input": "2025-05-29T13:49:25.420961Z",
     "iopub.status.busy": "2025-05-29T13:49:25.420729Z",
     "iopub.status.idle": "2025-05-29T13:49:25.424076Z",
     "shell.execute_reply": "2025-05-29T13:49:25.423703Z"
    }
   },
   "outputs": [],
   "source": [
    "def nuts_logprob(params_array):\n",
    "    \"\"\"Combined log probability for NUTS (assumes flat priors within bounds).\"\"\"\n",
    "    m, c, log_sigma = params_array\n",
    "    sigma = jnp.exp(log_sigma)  # positive constraint via log transform\n",
    "    \n",
    "    # Check bounds (flat prior)\n",
    "    m_valid = (m >= -5.0) & (m <= 5.0)\n",
    "    c_valid = (c >= -5.0) & (c <= 5.0)\n",
    "    sigma_valid = (sigma >= 0.1) & (sigma <= 2.0)\n",
    "    \n",
    "    def valid_logprob():\n",
    "        y_model = m * x + c\n",
    "        loglik = jax.scipy.stats.multivariate_normal.logpdf(y, y_model, sigma**2)\n",
    "        return loglik + log_sigma  # Add Jacobian for log transform\n",
    "    \n",
    "    def invalid_logprob():\n",
    "        return -jnp.inf\n",
    "    \n",
    "    return jax.lax.cond(m_valid & c_valid & sigma_valid, valid_logprob, invalid_logprob)"
   ]
  },
  {
   "cell_type": "markdown",
   "id": "68ce286e",
   "metadata": {},
   "source": [
    "### 3.2 Initialize and Run NUTS Sampler"
   ]
  },
  {
   "cell_type": "code",
   "execution_count": 25,
   "id": "a87876e3",
   "metadata": {
    "execution": {
     "iopub.execute_input": "2025-05-29T13:49:25.425683Z",
     "iopub.status.busy": "2025-05-29T13:49:25.425480Z",
     "iopub.status.idle": "2025-05-29T13:49:27.025304Z",
     "shell.execute_reply": "2025-05-29T13:49:27.024905Z"
    }
   },
   "outputs": [
    {
     "name": "stdout",
     "output_type": "stream",
     "text": [
      "Running NUTS sampler...\n"
     ]
    },
    {
     "name": "stderr",
     "output_type": "stream",
     "text": [
      "\r",
      "NUTS:   0%|          | 0/2000 [00:00<?, ?it/s]"
     ]
    },
    {
     "name": "stderr",
     "output_type": "stream",
     "text": [
      "\r",
      "NUTS:   0%|          | 1/2000 [00:00<23:48,  1.40it/s]"
     ]
    },
    {
     "name": "stderr",
     "output_type": "stream",
     "text": [
      "\r",
      "NUTS:  27%|██▋       | 549/2000 [00:00<00:01, 913.83it/s]"
     ]
    },
    {
     "name": "stderr",
     "output_type": "stream",
     "text": [
      "\r",
      "NUTS:  56%|█████▌    | 1112/2000 [00:00<00:00, 1819.88it/s]"
     ]
    },
    {
     "name": "stderr",
     "output_type": "stream",
     "text": [
      "\r",
      "NUTS:  86%|████████▌ | 1713/2000 [00:01<00:00, 2721.93it/s]"
     ]
    },
    {
     "name": "stderr",
     "output_type": "stream",
     "text": [
      "\r",
      "NUTS: 100%|██████████| 2000/2000 [00:01<00:00, 1883.42it/s]"
     ]
    },
    {
     "name": "stderr",
     "output_type": "stream",
     "text": [
      "\n"
     ]
    }
   ],
   "source": [
    "initial_position = jnp.array([1.0, 0.0, jnp.log(1.0)])  # [m, c, log_sigma]\n",
    "nuts = blackjax.nuts(nuts_logprob, step_size=0.1, inverse_mass_matrix=jnp.eye(3))\n",
    "\n",
    "rng_key, nuts_key = jax.random.split(rng_key)\n",
    "nuts_state = nuts.init(initial_position)\n",
    "nuts_step = jax.jit(nuts.step)\n",
    "\n",
    "print(\"Running NUTS sampler...\")\n",
    "\n",
    "num_nuts_samples = 2000\n",
    "nuts_start = time.time()\n",
    "nuts_samples = []\n",
    "nuts_states = nuts_state\n",
    "\n",
    "for i in tqdm.tqdm(range(num_nuts_samples), desc=\"NUTS\"):\n",
    "    nuts_key, step_key = jax.random.split(nuts_key)\n",
    "    nuts_states, nuts_info = nuts_step(step_key, nuts_states)\n",
    "    nuts_samples.append(nuts_states.position)\n",
    "\n",
    "nuts_time = time.time() - nuts_start\n",
    "nuts_samples = jnp.stack(nuts_samples)"
   ]
  },
  {
   "cell_type": "markdown",
   "id": "a5669849",
   "metadata": {},
   "source": [
    "### 3.3 Process NUTS Results"
   ]
  },
  {
   "cell_type": "code",
   "execution_count": 26,
   "id": "e08850f9",
   "metadata": {
    "execution": {
     "iopub.execute_input": "2025-05-29T13:49:27.028163Z",
     "iopub.status.busy": "2025-05-29T13:49:27.027953Z",
     "iopub.status.idle": "2025-05-29T13:49:27.121479Z",
     "shell.execute_reply": "2025-05-29T13:49:27.121059Z"
    }
   },
   "outputs": [
    {
     "name": "stdout",
     "output_type": "stream",
     "text": [
      "NUTS runtime: 1.06 seconds\n",
      "NUTS means: m=1.98, c=1.11, σ=0.60\n"
     ]
    }
   ],
   "source": [
    "nuts_m = nuts_samples[:, 0]\n",
    "nuts_c = nuts_samples[:, 1] \n",
    "nuts_sigma = jnp.exp(nuts_samples[:, 2])\n",
    "\n",
    "print(f\"NUTS runtime: {nuts_time:.2f} seconds\")\n",
    "print(f\"NUTS means: m={nuts_m[500:].mean():.2f}, c={nuts_c[500:].mean():.2f}, σ={nuts_sigma[500:].mean():.2f}\")"
   ]
  },
  {
   "cell_type": "markdown",
   "id": "5f364b32",
   "metadata": {},
   "source": [
    "### 3.4 Performance Summary and Visualization"
   ]
  },
  {
   "cell_type": "code",
   "execution_count": 27,
   "id": "b58c2c77",
   "metadata": {
    "execution": {
     "iopub.execute_input": "2025-05-29T13:49:27.123335Z",
     "iopub.status.busy": "2025-05-29T13:49:27.123021Z",
     "iopub.status.idle": "2025-05-29T13:49:27.126589Z",
     "shell.execute_reply": "2025-05-29T13:49:27.126156Z"
    }
   },
   "outputs": [
    {
     "name": "stdout",
     "output_type": "stream",
     "text": [
      "Method               Time            Evidence        GPU Parallel\n",
      "-----------------------------------------------------------------\n",
      "Nested Sampling      2.4 sec         ✓ (Log Z available) ✓ (GPU native)\n",
      "NUTS                 1.1 sec         ✗ (Not computed) Limited\n"
     ]
    }
   ],
   "source": [
    "methods = [\"Nested Sampling\", \"NUTS\"]\n",
    "times = [f\"{ns_time:.1f} sec\", f\"{nuts_time:.1f} sec\"]\n",
    "evidence = [\"✓ (Log Z available)\", \"✗ (Not computed)\"]\n",
    "parallelization = [\"✓ (GPU native)\", \"Limited\"]\n",
    "\n",
    "print(f\"{'Method':<20} {'Time':<15} {'Evidence':<15} {'GPU Parallel'}\")\n",
    "print(\"-\" * 65)\n",
    "for i in range(len(methods)):\n",
    "    print(f\"{methods[i]:<20} {times[i]:<15} {evidence[i]:<15} {parallelization[i]}\")"
   ]
  },
  {
   "cell_type": "markdown",
   "id": "15e23990",
   "metadata": {},
   "source": [
    "### 3.5 Posterior Comparison Plot"
   ]
  },
  {
   "cell_type": "code",
   "execution_count": 28,
   "id": "f871c907",
   "metadata": {
    "execution": {
     "iopub.execute_input": "2025-05-29T13:49:27.128238Z",
     "iopub.status.busy": "2025-05-29T13:49:27.128071Z",
     "iopub.status.idle": "2025-05-29T13:49:27.145274Z",
     "shell.execute_reply": "2025-05-29T13:49:27.144865Z"
    }
   },
   "outputs": [],
   "source": [
    "fig, axes = plt.subplots(1, 3, figsize=(15, 4))"
   ]
  },
  {
   "cell_type": "markdown",
   "id": "0fc8f74c",
   "metadata": {},
   "source": [
    "Generate proper posterior samples from NestedSamples (not raw dead points)\n",
    " Use the number of available samples or 1000, whichever is smaller"
   ]
  },
  {
   "cell_type": "code",
   "execution_count": 29,
   "id": "992ceb66",
   "metadata": {
    "execution": {
     "iopub.execute_input": "2025-05-29T13:49:27.147050Z",
     "iopub.status.busy": "2025-05-29T13:49:27.146695Z",
     "iopub.status.idle": "2025-05-29T13:49:27.150177Z",
     "shell.execute_reply": "2025-05-29T13:49:27.149672Z"
    }
   },
   "outputs": [],
   "source": [
    "n_posterior_samples = min(1000, len(line_samples))\n",
    "ns_posterior_samples = line_samples.sample(n_posterior_samples, replace=True)  # Sample from posterior with replacement\n",
    "nuts_burnin = 500  # Remove burn-in"
   ]
  },
  {
   "cell_type": "markdown",
   "id": "c7396278",
   "metadata": {},
   "source": [
    "Compare marginal posteriors"
   ]
  },
  {
   "cell_type": "code",
   "execution_count": 30,
   "id": "d68f0020",
   "metadata": {
    "execution": {
     "iopub.execute_input": "2025-05-29T13:49:27.151517Z",
     "iopub.status.busy": "2025-05-29T13:49:27.151369Z",
     "iopub.status.idle": "2025-05-29T13:49:27.324554Z",
     "shell.execute_reply": "2025-05-29T13:49:27.324234Z"
    }
   },
   "outputs": [
    {
     "data": {
      "text/plain": [
       "Text(0.5, 1.02, 'Posterior Comparison: Nested Sampling vs NUTS')"
      ]
     },
     "execution_count": 30,
     "metadata": {},
     "output_type": "execute_result"
    }
   ],
   "source": [
    "axes[0].hist(ns_posterior_samples.m.values, bins=30, alpha=0.7, density=True, label='Nested Sampling')\n",
    "axes[0].hist(nuts_m[nuts_burnin:], bins=30, alpha=0.7, density=True, label='NUTS')\n",
    "axes[0].axvline(true['m'], color='red', linestyle='--', label='True value')\n",
    "axes[0].set_xlabel('Slope (m)')\n",
    "axes[0].set_ylabel('Density')\n",
    "axes[0].legend()\n",
    "\n",
    "axes[1].hist(ns_posterior_samples.c.values, bins=30, alpha=0.7, density=True, label='Nested Sampling')\n",
    "axes[1].hist(nuts_c[nuts_burnin:], bins=30, alpha=0.7, density=True, label='NUTS')\n",
    "axes[1].axvline(true['c'], color='red', linestyle='--', label='True value')\n",
    "axes[1].set_xlabel('Intercept (c)')\n",
    "axes[1].set_ylabel('Density')\n",
    "axes[1].legend()\n",
    "\n",
    "axes[2].hist(ns_posterior_samples.sigma.values, bins=30, alpha=0.7, density=True, label='Nested Sampling')\n",
    "axes[2].hist(nuts_sigma[nuts_burnin:], bins=30, alpha=0.7, density=True, label='NUTS')\n",
    "axes[2].axvline(true['sigma'], color='red', linestyle='--', label='True value')\n",
    "axes[2].set_xlabel('Noise (σ)')\n",
    "axes[2].set_ylabel('Density')\n",
    "axes[2].legend()\n",
    "\n",
    "plt.tight_layout()\n",
    "plt.suptitle(\"Posterior Comparison: Nested Sampling vs NUTS\", y=1.02)"
   ]
  },
  {
   "cell_type": "markdown",
   "id": "1ec8a51d",
   "metadata": {},
   "source": [
    "## Workshop Conclusions\n",
    "\n",
    " Key takeaways from this BlackJAX nested sampling workshop:\n",
    "\n",
    " 1. **GPU-Native Performance**: BlackJAX leverages JAX for automatic differentiation and JIT compilation\n",
    " 2. **Evidence Computation**: Nested sampling naturally provides Bayesian evidence (model comparison)\n",
    " 3. **Parameter Transforms**: Proper handling of constrained parameters (e.g., correlation coefficients)\n",
    " 4. **Anesthetic Integration**: Professional post-processing and visualization of nested sampling results\n",
    " 5. **Sampler Comparison**: Different samplers have different strengths for different problems\n",
    "\n",
    " **Next Steps**: Try BlackJAX nested sampling on your own problems! Consider:\n",
    " - Adjusting `num_live` for accuracy vs. speed trade-offs\n",
    " - Using more complex prior distributions  \n",
    " - Comparing with other BlackJAX samplers (HMC, NUTS, etc.)\n",
    " - Exploring nested sampling for model selection problems"
   ]
  }
 ],
 "metadata": {
  "language_info": {
   "codemirror_mode": {
    "name": "ipython",
    "version": 3
   },
   "file_extension": ".py",
   "mimetype": "text/x-python",
   "name": "python",
   "nbconvert_exporter": "python",
   "pygments_lexer": "ipython3",
   "version": "3.13.3"
  }
 },
 "nbformat": 4,
 "nbformat_minor": 5
}

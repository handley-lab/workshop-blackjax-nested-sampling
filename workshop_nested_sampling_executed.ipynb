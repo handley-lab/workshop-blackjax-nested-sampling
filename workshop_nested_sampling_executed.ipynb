{
 "cells": [
  {
   "cell_type": "code",
   "execution_count": 1,
   "id": "d287b4ea",
   "metadata": {
    "execution": {
     "iopub.execute_input": "2025-05-29T14:37:31.598554Z",
     "iopub.status.busy": "2025-05-29T14:37:31.597672Z",
     "iopub.status.idle": "2025-05-29T14:37:35.841991Z",
     "shell.execute_reply": "2025-05-29T14:37:35.840794Z"
    }
   },
   "outputs": [
    {
     "name": "stdout",
     "output_type": "stream",
     "text": [
      "Collecting git+https://github.com/handley-lab/blackjax\r\n",
      "  Cloning https://github.com/handley-lab/blackjax to /tmp/pip-req-build-nx0lozu4\r\n",
      "  Running command git clone --filter=blob:none --quiet https://github.com/handley-lab/blackjax /tmp/pip-req-build-nx0lozu4\r\n"
     ]
    },
    {
     "name": "stdout",
     "output_type": "stream",
     "text": [
      "  Resolved https://github.com/handley-lab/blackjax to commit 41daed716462cc4b57af9da42aefb1eb27a532bb\r\n"
     ]
    },
    {
     "name": "stdout",
     "output_type": "stream",
     "text": [
      "  Installing build dependencies ... \u001b[?25l-"
     ]
    },
    {
     "name": "stdout",
     "output_type": "stream",
     "text": [
      "\b \b\\"
     ]
    },
    {
     "name": "stdout",
     "output_type": "stream",
     "text": [
      "\b \bdone\r\n"
     ]
    },
    {
     "name": "stdout",
     "output_type": "stream",
     "text": [
      "\u001b[?25h  Getting requirements to build wheel ... \u001b[?25l-"
     ]
    },
    {
     "name": "stdout",
     "output_type": "stream",
     "text": [
      "\b \bdone\r\n"
     ]
    },
    {
     "name": "stdout",
     "output_type": "stream",
     "text": [
      "\u001b[?25h  Preparing metadata (pyproject.toml) ... \u001b[?25l-"
     ]
    },
    {
     "name": "stdout",
     "output_type": "stream",
     "text": [
      "\b \bdone\r\n",
      "\u001b[?25hRequirement already satisfied: fastprogress>=1.0.0 in ./workshop_env/lib/python3.13/site-packages (from blackjax==0.1.dev704+g41daed7) (1.0.3)\r\n",
      "Requirement already satisfied: jax>=0.4.16 in ./workshop_env/lib/python3.13/site-packages (from blackjax==0.1.dev704+g41daed7) (0.6.1)\r\n",
      "Requirement already satisfied: jaxlib>=0.4.16 in ./workshop_env/lib/python3.13/site-packages (from blackjax==0.1.dev704+g41daed7) (0.6.1)\r\n",
      "Requirement already satisfied: jaxopt>=0.8 in ./workshop_env/lib/python3.13/site-packages (from blackjax==0.1.dev704+g41daed7) (0.8.3)\r\n",
      "Requirement already satisfied: optax>=0.1.7 in ./workshop_env/lib/python3.13/site-packages (from blackjax==0.1.dev704+g41daed7) (0.2.4)\r\n",
      "Requirement already satisfied: typing-extensions>=4.4.0 in ./workshop_env/lib/python3.13/site-packages (from blackjax==0.1.dev704+g41daed7) (4.13.2)\r\n",
      "Requirement already satisfied: ml_dtypes>=0.5.0 in ./workshop_env/lib/python3.13/site-packages (from jax>=0.4.16->blackjax==0.1.dev704+g41daed7) (0.5.1)\r\n",
      "Requirement already satisfied: numpy>=1.25 in ./workshop_env/lib/python3.13/site-packages (from jax>=0.4.16->blackjax==0.1.dev704+g41daed7) (2.2.6)\r\n",
      "Requirement already satisfied: opt_einsum in ./workshop_env/lib/python3.13/site-packages (from jax>=0.4.16->blackjax==0.1.dev704+g41daed7) (3.4.0)\r\n",
      "Requirement already satisfied: scipy>=1.11.1 in ./workshop_env/lib/python3.13/site-packages (from jax>=0.4.16->blackjax==0.1.dev704+g41daed7) (1.15.3)\r\n",
      "Requirement already satisfied: absl-py>=0.7.1 in ./workshop_env/lib/python3.13/site-packages (from optax>=0.1.7->blackjax==0.1.dev704+g41daed7) (2.3.0)\r\n",
      "Requirement already satisfied: chex>=0.1.87 in ./workshop_env/lib/python3.13/site-packages (from optax>=0.1.7->blackjax==0.1.dev704+g41daed7) (0.1.89)\r\n",
      "Requirement already satisfied: etils[epy] in ./workshop_env/lib/python3.13/site-packages (from optax>=0.1.7->blackjax==0.1.dev704+g41daed7) (1.12.2)\r\n",
      "Requirement already satisfied: setuptools in ./workshop_env/lib/python3.13/site-packages (from chex>=0.1.87->optax>=0.1.7->blackjax==0.1.dev704+g41daed7) (80.9.0)\r\n",
      "Requirement already satisfied: toolz>=0.9.0 in ./workshop_env/lib/python3.13/site-packages (from chex>=0.1.87->optax>=0.1.7->blackjax==0.1.dev704+g41daed7) (1.0.0)\r\n"
     ]
    },
    {
     "name": "stdout",
     "output_type": "stream",
     "text": [
      "Requirement already satisfied: anesthetic in ./workshop_env/lib/python3.13/site-packages (2.10.0)\r\n",
      "Requirement already satisfied: tqdm in ./workshop_env/lib/python3.13/site-packages (4.67.1)\r\n",
      "Requirement already satisfied: scipy<2.0.0 in ./workshop_env/lib/python3.13/site-packages (from anesthetic) (1.15.3)\r\n",
      "Requirement already satisfied: numpy<3.0.0,>=1.26.0 in ./workshop_env/lib/python3.13/site-packages (from anesthetic) (2.2.6)\r\n",
      "Requirement already satisfied: pandas~=2.2.0 in ./workshop_env/lib/python3.13/site-packages (from anesthetic) (2.2.3)\r\n",
      "Requirement already satisfied: matplotlib<3.11.0,>=3.6.1 in ./workshop_env/lib/python3.13/site-packages (from anesthetic) (3.10.3)\r\n",
      "Requirement already satisfied: contourpy>=1.0.1 in ./workshop_env/lib/python3.13/site-packages (from matplotlib<3.11.0,>=3.6.1->anesthetic) (1.3.2)\r\n",
      "Requirement already satisfied: cycler>=0.10 in ./workshop_env/lib/python3.13/site-packages (from matplotlib<3.11.0,>=3.6.1->anesthetic) (0.12.1)\r\n",
      "Requirement already satisfied: fonttools>=4.22.0 in ./workshop_env/lib/python3.13/site-packages (from matplotlib<3.11.0,>=3.6.1->anesthetic) (4.58.1)\r\n",
      "Requirement already satisfied: kiwisolver>=1.3.1 in ./workshop_env/lib/python3.13/site-packages (from matplotlib<3.11.0,>=3.6.1->anesthetic) (1.4.8)\r\n",
      "Requirement already satisfied: packaging>=20.0 in ./workshop_env/lib/python3.13/site-packages (from matplotlib<3.11.0,>=3.6.1->anesthetic) (25.0)\r\n",
      "Requirement already satisfied: pillow>=8 in ./workshop_env/lib/python3.13/site-packages (from matplotlib<3.11.0,>=3.6.1->anesthetic) (11.2.1)\r\n",
      "Requirement already satisfied: pyparsing>=2.3.1 in ./workshop_env/lib/python3.13/site-packages (from matplotlib<3.11.0,>=3.6.1->anesthetic) (3.2.3)\r\n",
      "Requirement already satisfied: python-dateutil>=2.7 in ./workshop_env/lib/python3.13/site-packages (from matplotlib<3.11.0,>=3.6.1->anesthetic) (2.9.0.post0)\r\n",
      "Requirement already satisfied: pytz>=2020.1 in ./workshop_env/lib/python3.13/site-packages (from pandas~=2.2.0->anesthetic) (2025.2)\r\n",
      "Requirement already satisfied: tzdata>=2022.7 in ./workshop_env/lib/python3.13/site-packages (from pandas~=2.2.0->anesthetic) (2025.2)\r\n",
      "Requirement already satisfied: six>=1.5 in ./workshop_env/lib/python3.13/site-packages (from python-dateutil>=2.7->matplotlib<3.11.0,>=3.6.1->anesthetic) (1.17.0)\r\n"
     ]
    },
    {
     "name": "stdout",
     "output_type": "stream",
     "text": [
      "Requirement already satisfied: optax in ./workshop_env/lib/python3.13/site-packages (0.2.4)\r\n",
      "Requirement already satisfied: flax in ./workshop_env/lib/python3.13/site-packages (0.10.6)\r\n",
      "Requirement already satisfied: absl-py>=0.7.1 in ./workshop_env/lib/python3.13/site-packages (from optax) (2.3.0)\r\n",
      "Requirement already satisfied: chex>=0.1.87 in ./workshop_env/lib/python3.13/site-packages (from optax) (0.1.89)\r\n",
      "Requirement already satisfied: jax>=0.4.27 in ./workshop_env/lib/python3.13/site-packages (from optax) (0.6.1)\r\n",
      "Requirement already satisfied: jaxlib>=0.4.27 in ./workshop_env/lib/python3.13/site-packages (from optax) (0.6.1)\r\n",
      "Requirement already satisfied: numpy>=1.18.0 in ./workshop_env/lib/python3.13/site-packages (from optax) (2.2.6)\r\n",
      "Requirement already satisfied: etils[epy] in ./workshop_env/lib/python3.13/site-packages (from optax) (1.12.2)\r\n",
      "Requirement already satisfied: msgpack in ./workshop_env/lib/python3.13/site-packages (from flax) (1.1.0)\r\n",
      "Requirement already satisfied: orbax-checkpoint in ./workshop_env/lib/python3.13/site-packages (from flax) (0.11.13)\r\n",
      "Requirement already satisfied: tensorstore in ./workshop_env/lib/python3.13/site-packages (from flax) (0.1.75)\r\n",
      "Requirement already satisfied: rich>=11.1 in ./workshop_env/lib/python3.13/site-packages (from flax) (14.0.0)\r\n",
      "Requirement already satisfied: typing_extensions>=4.2 in ./workshop_env/lib/python3.13/site-packages (from flax) (4.13.2)\r\n",
      "Requirement already satisfied: PyYAML>=5.4.1 in ./workshop_env/lib/python3.13/site-packages (from flax) (6.0.2)\r\n",
      "Requirement already satisfied: treescope>=0.1.7 in ./workshop_env/lib/python3.13/site-packages (from flax) (0.1.9)\r\n",
      "Requirement already satisfied: setuptools in ./workshop_env/lib/python3.13/site-packages (from chex>=0.1.87->optax) (80.9.0)\r\n",
      "Requirement already satisfied: toolz>=0.9.0 in ./workshop_env/lib/python3.13/site-packages (from chex>=0.1.87->optax) (1.0.0)\r\n",
      "Requirement already satisfied: ml_dtypes>=0.5.0 in ./workshop_env/lib/python3.13/site-packages (from jax>=0.4.27->optax) (0.5.1)\r\n",
      "Requirement already satisfied: opt_einsum in ./workshop_env/lib/python3.13/site-packages (from jax>=0.4.27->optax) (3.4.0)\r\n",
      "Requirement already satisfied: scipy>=1.11.1 in ./workshop_env/lib/python3.13/site-packages (from jax>=0.4.27->optax) (1.15.3)\r\n",
      "Requirement already satisfied: markdown-it-py>=2.2.0 in ./workshop_env/lib/python3.13/site-packages (from rich>=11.1->flax) (3.0.0)\r\n",
      "Requirement already satisfied: pygments<3.0.0,>=2.13.0 in ./workshop_env/lib/python3.13/site-packages (from rich>=11.1->flax) (2.19.1)\r\n",
      "Requirement already satisfied: mdurl~=0.1 in ./workshop_env/lib/python3.13/site-packages (from markdown-it-py>=2.2.0->rich>=11.1->flax) (0.1.2)\r\n"
     ]
    },
    {
     "name": "stdout",
     "output_type": "stream",
     "text": [
      "Requirement already satisfied: nest_asyncio in ./workshop_env/lib/python3.13/site-packages (from orbax-checkpoint->flax) (1.6.0)\r\n",
      "Requirement already satisfied: protobuf in ./workshop_env/lib/python3.13/site-packages (from orbax-checkpoint->flax) (6.31.1)\r\n",
      "Requirement already satisfied: humanize in ./workshop_env/lib/python3.13/site-packages (from orbax-checkpoint->flax) (4.12.3)\r\n",
      "Requirement already satisfied: simplejson>=3.16.0 in ./workshop_env/lib/python3.13/site-packages (from orbax-checkpoint->flax) (3.20.1)\r\n",
      "Requirement already satisfied: fsspec in ./workshop_env/lib/python3.13/site-packages (from etils[epy]->optax) (2025.5.1)\r\n",
      "Requirement already satisfied: importlib_resources in ./workshop_env/lib/python3.13/site-packages (from etils[epy]->optax) (6.5.2)\r\n",
      "Requirement already satisfied: zipp in ./workshop_env/lib/python3.13/site-packages (from etils[epy]->optax) (3.22.0)\r\n"
     ]
    }
   ],
   "source": [
    "!pip install git+https://github.com/handley-lab/blackjax\n",
    "!pip install anesthetic tqdm\n",
    "# Advanced extensions (optional for Parts 4-6)\n",
    "!pip install optax flax\n",
    "\n",
    "# Note: Installation may take 2-3 minutes in Google Colab"
   ]
  },
  {
   "cell_type": "markdown",
   "id": "8fc4074f",
   "metadata": {},
   "source": [
    "# BlackJAX Nested Sampling Workshop\n",
    "\n",
    " This workshop demonstrates GPU-native nested sampling using BlackJAX. We'll progress through three examples: line fitting, 2D Gaussian inference, and performance comparisons with other samplers. The workshop showcases JAX's key strengths: automatic differentiation and JIT compilation for high-performance Bayesian inference."
   ]
  },
  {
   "cell_type": "markdown",
   "id": "ad140974",
   "metadata": {},
   "source": [
    "## Installation for Google Colab\n",
    "```bash\n",
    " pip install git+https://github.com/handley-lab/blackjax@nested_sampling\n",
    " pip install anesthetic tqdm\n",
    "```"
   ]
  },
  {
   "cell_type": "code",
   "execution_count": 2,
   "id": "d1138bca",
   "metadata": {
    "execution": {
     "iopub.execute_input": "2025-05-29T14:37:35.846325Z",
     "iopub.status.busy": "2025-05-29T14:37:35.845928Z",
     "iopub.status.idle": "2025-05-29T14:37:36.115480Z",
     "shell.execute_reply": "2025-05-29T14:37:36.115135Z"
    }
   },
   "outputs": [],
   "source": [
    "import jax"
   ]
  },
  {
   "cell_type": "markdown",
   "id": "0310e16e",
   "metadata": {},
   "source": [
    "Configure JAX immediately after import"
   ]
  },
  {
   "cell_type": "code",
   "execution_count": 3,
   "id": "f824775b",
   "metadata": {
    "execution": {
     "iopub.execute_input": "2025-05-29T14:37:36.117077Z",
     "iopub.status.busy": "2025-05-29T14:37:36.116843Z",
     "iopub.status.idle": "2025-05-29T14:37:36.875877Z",
     "shell.execute_reply": "2025-05-29T14:37:36.875545Z"
    }
   },
   "outputs": [],
   "source": [
    "jax.config.update(\"jax_enable_x64\", True)\n",
    "\n",
    "import jax.numpy as jnp\n",
    "import numpy as np\n",
    "import matplotlib.pyplot as plt\n",
    "import tqdm\n",
    "import time\n",
    "import blackjax\n",
    "from anesthetic import NestedSamples"
   ]
  },
  {
   "cell_type": "markdown",
   "id": "ecc3953b",
   "metadata": {},
   "source": [
    "## Part 1: Line Fitting with Nested Sampling\n",
    "\n",
    " We start with the classic problem of fitting a linear model y = mx + c to noisy data.\n",
    " This introduces the basic nested sampling workflow in BlackJAX."
   ]
  },
  {
   "cell_type": "markdown",
   "id": "4b775210",
   "metadata": {},
   "source": [
    "### 1.1 Nested Sampling Configuration\n",
    " \n",
    " Key parameters for workshop timing and educational value:\n",
    " - `num_live=100`: Fast convergence for workshop setting\n",
    " - `num_delete=50`: Parallelization parameter\n",
    " - `num_inner_steps`: Reliability parameter (rule of thumb: 5 * num_dims)"
   ]
  },
  {
   "cell_type": "code",
   "execution_count": 4,
   "id": "e3ef804a",
   "metadata": {
    "execution": {
     "iopub.execute_input": "2025-05-29T14:37:36.877492Z",
     "iopub.status.busy": "2025-05-29T14:37:36.877290Z",
     "iopub.status.idle": "2025-05-29T14:37:36.902515Z",
     "shell.execute_reply": "2025-05-29T14:37:36.902085Z"
    }
   },
   "outputs": [],
   "source": [
    "rng_key = jax.random.PRNGKey(42)\n",
    "num_live = 100\n",
    "num_delete = 50"
   ]
  },
  {
   "cell_type": "markdown",
   "id": "2db734c7",
   "metadata": {},
   "source": [
    "### 1.2 Generate Synthetic Line Data\n",
    "\n",
    " True model: y = 2x + 1 + noise, with σ = 0.5"
   ]
  },
  {
   "cell_type": "code",
   "execution_count": 5,
   "id": "e4c55ce0",
   "metadata": {
    "execution": {
     "iopub.execute_input": "2025-05-29T14:37:36.904082Z",
     "iopub.status.busy": "2025-05-29T14:37:36.903882Z",
     "iopub.status.idle": "2025-05-29T14:37:37.131616Z",
     "shell.execute_reply": "2025-05-29T14:37:37.130890Z"
    }
   },
   "outputs": [],
   "source": [
    "num_data = 15\n",
    "x = jnp.linspace(-2.0, 2.0, num_data)\n",
    "true = {'m': 2.0, 'c': 1.0, 'sigma': 0.5}\n",
    "\n",
    "key, rng_key = jax.random.split(rng_key)\n",
    "noise = true['sigma'] * jax.random.normal(key, (num_data,))\n",
    "y = true['m'] * x + true['c'] + noise"
   ]
  },
  {
   "cell_type": "markdown",
   "id": "46b319d6",
   "metadata": {},
   "source": [
    "Visualize the data"
   ]
  },
  {
   "cell_type": "code",
   "execution_count": 6,
   "id": "33597904",
   "metadata": {
    "execution": {
     "iopub.execute_input": "2025-05-29T14:37:37.133724Z",
     "iopub.status.busy": "2025-05-29T14:37:37.133516Z",
     "iopub.status.idle": "2025-05-29T14:37:37.305541Z",
     "shell.execute_reply": "2025-05-29T14:37:37.304949Z"
    }
   },
   "outputs": [
    {
     "data": {
      "text/plain": [
       "Text(0.5, 1.0, 'Linear Model: Bayesian Parameter Estimation')"
      ]
     },
     "execution_count": 6,
     "metadata": {},
     "output_type": "execute_result"
    },
    {
     "data": {
      "image/png": "[encoded data removed]",
      "text/plain": [
       "<Figure size 800x500 with 1 Axes>"
      ]
     },
     "metadata": {},
     "output_type": "display_data"
    }
   ],
   "source": [
    "fig, ax = plt.subplots(figsize=(8, 5))\n",
    "ax.errorbar(x, y, yerr=true['sigma'], fmt=\"o\", label=\"Observed data\", color='black')\n",
    "ax.plot(x, true['m'] * x + true['c'], '--', label=\"True model\", color='red', alpha=0.7)\n",
    "ax.set_xlabel(\"x\")\n",
    "ax.set_ylabel(\"y\")\n",
    "ax.legend()\n",
    "ax.set_title(\"Linear Model: Bayesian Parameter Estimation\")"
   ]
  },
  {
   "cell_type": "markdown",
   "id": "17305e7e",
   "metadata": {},
   "source": [
    "### 1.3 Define Likelihood Function\n",
    "\n",
    " Gaussian likelihood with unknown slope, intercept, and noise level"
   ]
  },
  {
   "cell_type": "code",
   "execution_count": 7,
   "id": "7db14bd3",
   "metadata": {
    "execution": {
     "iopub.execute_input": "2025-05-29T14:37:37.307866Z",
     "iopub.status.busy": "2025-05-29T14:37:37.307579Z",
     "iopub.status.idle": "2025-05-29T14:37:37.311193Z",
     "shell.execute_reply": "2025-05-29T14:37:37.310675Z"
    }
   },
   "outputs": [],
   "source": [
    "def line_loglikelihood(params):\n",
    "    \"\"\"Log-likelihood for linear model with Gaussian noise.\"\"\"\n",
    "    m, c, sigma = params[\"m\"], params[\"c\"], params[\"sigma\"]\n",
    "    y_model = m * x + c\n",
    "    # Vectorized normal log-likelihood\n",
    "    return jax.scipy.stats.multivariate_normal.logpdf(y, y_model, sigma**2)"
   ]
  },
  {
   "cell_type": "markdown",
   "id": "ba0db027",
   "metadata": {},
   "source": [
    "### 1.4 Define Prior Distributions"
   ]
  },
  {
   "cell_type": "code",
   "execution_count": 8,
   "id": "5d830d2c",
   "metadata": {
    "execution": {
     "iopub.execute_input": "2025-05-29T14:37:37.313314Z",
     "iopub.status.busy": "2025-05-29T14:37:37.313085Z",
     "iopub.status.idle": "2025-05-29T14:37:37.317691Z",
     "shell.execute_reply": "2025-05-29T14:37:37.316633Z"
    }
   },
   "outputs": [],
   "source": [
    "prior_bounds = {\n",
    "    \"m\": (-5.0, 5.0),      # slope\n",
    "    \"c\": (-5.0, 5.0),      # intercept  \n",
    "    \"sigma\": (0.1, 2.0),   # noise level (positive)\n",
    "}\n",
    "\n",
    "num_dims = len(prior_bounds)\n",
    "num_inner_steps = num_dims * 5"
   ]
  },
  {
   "cell_type": "markdown",
   "id": "f6c51f87",
   "metadata": {},
   "source": [
    "### 1.5 Initialize Nested Sampler"
   ]
  },
  {
   "cell_type": "code",
   "execution_count": 9,
   "id": "7cff2904",
   "metadata": {
    "execution": {
     "iopub.execute_input": "2025-05-29T14:37:37.321129Z",
     "iopub.status.busy": "2025-05-29T14:37:37.320820Z",
     "iopub.status.idle": "2025-05-29T14:37:38.010435Z",
     "shell.execute_reply": "2025-05-29T14:37:38.009861Z"
    }
   },
   "outputs": [
    {
     "name": "stdout",
     "output_type": "stream",
     "text": [
      "Initialized nested sampler with 100 live points\n"
     ]
    }
   ],
   "source": [
    "rng_key, prior_key = jax.random.split(rng_key)\n",
    "particles, logprior_fn = blackjax.ns.utils.uniform_prior(prior_key, num_live, prior_bounds)\n",
    "\n",
    "nested_sampler = blackjax.nss(\n",
    "    logprior_fn=logprior_fn,\n",
    "    loglikelihood_fn=line_loglikelihood,\n",
    "    num_delete=num_delete,\n",
    "    num_inner_steps=num_inner_steps,\n",
    ")\n",
    "print(f\"Initialized nested sampler with {num_live} live points\")"
   ]
  },
  {
   "cell_type": "markdown",
   "id": "a43f585a",
   "metadata": {},
   "source": [
    "### 1.6 JIT Compile for Performance"
   ]
  },
  {
   "cell_type": "code",
   "execution_count": 10,
   "id": "53c774d8",
   "metadata": {
    "execution": {
     "iopub.execute_input": "2025-05-29T14:37:38.012593Z",
     "iopub.status.busy": "2025-05-29T14:37:38.012373Z",
     "iopub.status.idle": "2025-05-29T14:37:38.017359Z",
     "shell.execute_reply": "2025-05-29T14:37:38.016694Z"
    }
   },
   "outputs": [
    {
     "name": "stdout",
     "output_type": "stream",
     "text": [
      "Functions compiled - ready to run!\n"
     ]
    }
   ],
   "source": [
    "init_fn = jax.jit(nested_sampler.init)\n",
    "step_fn = jax.jit(nested_sampler.step)\n",
    "print(\"Functions compiled - ready to run!\")"
   ]
  },
  {
   "cell_type": "markdown",
   "id": "706957e1",
   "metadata": {},
   "source": [
    "### 1.7 Run the Nested Sampling"
   ]
  },
  {
   "cell_type": "code",
   "execution_count": 11,
   "id": "87e7ea9b",
   "metadata": {
    "execution": {
     "iopub.execute_input": "2025-05-29T14:37:38.019448Z",
     "iopub.status.busy": "2025-05-29T14:37:38.019238Z",
     "iopub.status.idle": "2025-05-29T14:37:41.015624Z",
     "shell.execute_reply": "2025-05-29T14:37:41.015229Z"
    }
   },
   "outputs": [
    {
     "name": "stdout",
     "output_type": "stream",
     "text": [
      "Running nested sampling for line fitting...\n"
     ]
    },
    {
     "name": "stderr",
     "output_type": "stream",
     "text": [
      "\r",
      "Dead points: 0 dead points [00:00, ? dead points/s]"
     ]
    },
    {
     "name": "stderr",
     "output_type": "stream",
     "text": [
      "\r",
      "Dead points: 50 dead points [00:02, 20.08 dead points/s]"
     ]
    },
    {
     "name": "stderr",
     "output_type": "stream",
     "text": [
      "\r",
      "Dead points: 900 dead points [00:02, 356.14 dead points/s]"
     ]
    },
    {
     "name": "stderr",
     "output_type": "stream",
     "text": [
      "\n"
     ]
    }
   ],
   "source": [
    "print(\"Running nested sampling for line fitting...\")\n",
    "ns_start = time.time()\n",
    "live = init_fn(particles)\n",
    "dead = []\n",
    "\n",
    "with tqdm.tqdm(desc=\"Dead points\", unit=\" dead points\") as pbar:\n",
    "    while not live.logZ_live - live.logZ < -3:  # Convergence criterion\n",
    "        rng_key, subkey = jax.random.split(rng_key, 2)\n",
    "        live, dead_info = step_fn(subkey, live)\n",
    "        dead.append(dead_info)\n",
    "        pbar.update(num_delete)\n",
    "\n",
    "dead = blackjax.ns.utils.finalise(live, dead)\n",
    "ns_time = time.time() - ns_start"
   ]
  },
  {
   "cell_type": "markdown",
   "id": "590ba761",
   "metadata": {},
   "source": [
    "### 1.8 Process Results with Anesthetic"
   ]
  },
  {
   "cell_type": "code",
   "execution_count": 12,
   "id": "7e6ac938",
   "metadata": {
    "execution": {
     "iopub.execute_input": "2025-05-29T14:37:41.017013Z",
     "iopub.status.busy": "2025-05-29T14:37:41.016847Z",
     "iopub.status.idle": "2025-05-29T14:37:41.082558Z",
     "shell.execute_reply": "2025-05-29T14:37:41.082197Z"
    }
   },
   "outputs": [],
   "source": [
    "columns = [\"m\", \"c\", \"sigma\"]\n",
    "labels = [r\"$m$\", r\"$c$\", r\"$\\sigma$\"]\n",
    "data = jnp.vstack([dead.particles[key] for key in columns]).T\n",
    "\n",
    "line_samples = NestedSamples(\n",
    "    data,\n",
    "    logL=dead.loglikelihood,\n",
    "    logL_birth=dead.loglikelihood_birth,\n",
    "    columns=columns,\n",
    "    labels=labels,\n",
    "    logzero=jnp.nan,\n",
    ")"
   ]
  },
  {
   "cell_type": "markdown",
   "id": "861c4af3",
   "metadata": {},
   "source": [
    "### 1.9 Results Analysis and Visualization"
   ]
  },
  {
   "cell_type": "code",
   "execution_count": 13,
   "id": "4dd890fe",
   "metadata": {
    "execution": {
     "iopub.execute_input": "2025-05-29T14:37:41.084135Z",
     "iopub.status.busy": "2025-05-29T14:37:41.084013Z",
     "iopub.status.idle": "2025-05-29T14:37:42.133932Z",
     "shell.execute_reply": "2025-05-29T14:37:42.133552Z"
    }
   },
   "outputs": [
    {
     "name": "stdout",
     "output_type": "stream",
     "text": [
      "Nested sampling runtime: 2.99 seconds\n",
      "Log Evidence: -20.05 ± 0.34\n",
      "True parameters: m=2.0, c=1.0, σ=0.5\n",
      "Posterior means: m=1.97, c=1.11, σ=0.60\n"
     ]
    },
    {
     "data": {
      "text/plain": [
       "Text(0.5, 0.98, 'Line Fitting: Posterior Distributions')"
      ]
     },
     "execution_count": 13,
     "metadata": {},
     "output_type": "execute_result"
    },
    {
     "data": {
      "image/png": "[encoded data removed]",
      "text/plain": [
       "<Figure size 640x480 with 12 Axes>"
      ]
     },
     "metadata": {},
     "output_type": "display_data"
    }
   ],
   "source": [
    "print(f\"Nested sampling runtime: {ns_time:.2f} seconds\")\n",
    "print(f\"Log Evidence: {line_samples.logZ():.2f} ± {line_samples.logZ(100).std():.2f}\")\n",
    "print(f\"True parameters: m={true['m']}, c={true['c']}, σ={true['sigma']}\")\n",
    "print(f\"Posterior means: m={line_samples.m.mean():.2f}, c={line_samples.c.mean():.2f}, σ={line_samples.sigma.mean():.2f}\")\n",
    "\n",
    "# Create posterior corner plot with true values marked\n",
    "kinds = {'lower': 'kde_2d', 'diagonal': 'hist_1d', 'upper': 'scatter_2d'}\n",
    "axes = line_samples.plot_2d(columns, kinds=kinds, label='Posterior')\n",
    "axes.axlines(true, color='red', linestyle='--', alpha=0.8)\n",
    "plt.suptitle(\"Line Fitting: Posterior Distributions\")"
   ]
  },
  {
   "cell_type": "markdown",
   "id": "bcf9c3af",
   "metadata": {},
   "source": [
    "## Part 2: 2D Gaussian Parameter Inference\n",
    "\n",
    " Now we tackle a more complex problem: inferring the parameters of a 2D Gaussian distribution\n",
    " including the correlation coefficient. This demonstrates parameter transforms and constrained sampling."
   ]
  },
  {
   "cell_type": "markdown",
   "id": "19313ef4",
   "metadata": {},
   "source": [
    "### 2.1 Define 2D Gaussian Parameters"
   ]
  },
  {
   "cell_type": "code",
   "execution_count": 14,
   "id": "9afd1dbc",
   "metadata": {
    "execution": {
     "iopub.execute_input": "2025-05-29T14:37:42.135198Z",
     "iopub.status.busy": "2025-05-29T14:37:42.135029Z",
     "iopub.status.idle": "2025-05-29T14:37:42.137526Z",
     "shell.execute_reply": "2025-05-29T14:37:42.137213Z"
    }
   },
   "outputs": [
    {
     "name": "stdout",
     "output_type": "stream",
     "text": [
      "True parameters: {'mu1': 1.0, 'mu2': -0.5, 'sigma1': 1.2, 'sigma2': 0.8, 'rho': 0.6}\n"
     ]
    }
   ],
   "source": [
    "true.update({\n",
    "    'mu1': 1.0, 'mu2': -0.5,\n",
    "    'sigma1': 1.2, 'sigma2': 0.8, \n",
    "    'rho': 0.6\n",
    "})\n",
    "print(\"True parameters:\", {k: v for k, v in true.items() if k in ['mu1', 'mu2', 'sigma1', 'sigma2', 'rho']})"
   ]
  },
  {
   "cell_type": "markdown",
   "id": "8ac616da",
   "metadata": {},
   "source": [
    "### 2.2 Generate Correlated 2D Data"
   ]
  },
  {
   "cell_type": "code",
   "execution_count": 15,
   "id": "7b77c175",
   "metadata": {
    "execution": {
     "iopub.execute_input": "2025-05-29T14:37:42.138783Z",
     "iopub.status.busy": "2025-05-29T14:37:42.138632Z",
     "iopub.status.idle": "2025-05-29T14:37:42.310560Z",
     "shell.execute_reply": "2025-05-29T14:37:42.310174Z"
    }
   },
   "outputs": [
    {
     "name": "stdout",
     "output_type": "stream",
     "text": [
      "Generated 200 correlated 2D samples\n",
      "Sample mean: [1.06, -0.39]\n"
     ]
    }
   ],
   "source": [
    "true_mu = jnp.array([true['mu1'], true['mu2']])\n",
    "true_cov = jnp.array([\n",
    "    [true['sigma1']**2, true['rho'] * true['sigma1'] * true['sigma2']],\n",
    "    [true['rho'] * true['sigma1'] * true['sigma2'], true['sigma2']**2]\n",
    "])\n",
    "\n",
    "num_samples = 200\n",
    "key, rng_key = jax.random.split(rng_key)\n",
    "gaussian_data = jax.random.multivariate_normal(key, true_mu, true_cov, (num_samples,))\n",
    "\n",
    "print(f\"Generated {num_samples} correlated 2D samples\")\n",
    "print(f\"Sample mean: [{gaussian_data.mean(0)[0]:.2f}, {gaussian_data.mean(0)[1]:.2f}]\")"
   ]
  },
  {
   "cell_type": "markdown",
   "id": "0b367091",
   "metadata": {},
   "source": [
    "### 2.3 Visualize the 2D Data"
   ]
  },
  {
   "cell_type": "code",
   "execution_count": 16,
   "id": "116f2fee",
   "metadata": {
    "execution": {
     "iopub.execute_input": "2025-05-29T14:37:42.311836Z",
     "iopub.status.busy": "2025-05-29T14:37:42.311677Z",
     "iopub.status.idle": "2025-05-29T14:37:42.529698Z",
     "shell.execute_reply": "2025-05-29T14:37:42.529265Z"
    }
   },
   "outputs": [
    {
     "data": {
      "image/png": "[encoded data removed]",
      "text/plain": [
       "<Figure size 800x600 with 1 Axes>"
      ]
     },
     "metadata": {},
     "output_type": "display_data"
    }
   ],
   "source": [
    "fig, ax = plt.subplots(figsize=(8, 6))\n",
    "ax.scatter(gaussian_data[:, 0], gaussian_data[:, 1], alpha=0.6, s=20)\n",
    "ax.set_xlabel(r\"$x_1$\")\n",
    "ax.set_ylabel(r\"$x_2$\")\n",
    "ax.set_title(\"2D Gaussian Data\")\n",
    "ax.grid(True, alpha=0.3)"
   ]
  },
  {
   "cell_type": "markdown",
   "id": "e4a6d112",
   "metadata": {},
   "source": [
    "### 2.4 Define Likelihood with Parameter Transforms\n",
    "\n",
    " We use arctanh/tanh transform for the correlation coefficient to enforce |ρ| < 1"
   ]
  },
  {
   "cell_type": "code",
   "execution_count": 17,
   "id": "306d9ace",
   "metadata": {
    "execution": {
     "iopub.execute_input": "2025-05-29T14:37:42.531157Z",
     "iopub.status.busy": "2025-05-29T14:37:42.530912Z",
     "iopub.status.idle": "2025-05-29T14:37:42.534284Z",
     "shell.execute_reply": "2025-05-29T14:37:42.533973Z"
    }
   },
   "outputs": [],
   "source": [
    "def gaussian_2d_loglikelihood(params):\n",
    "    \"\"\"Log-likelihood for 2D Gaussian with correlation.\"\"\"\n",
    "    mu1, mu2 = params[\"mu1\"], params[\"mu2\"]\n",
    "    sigma1, sigma2 = params[\"sigma1\"], params[\"sigma2\"]\n",
    "    rho_transformed = params[\"rho_t\"]\n",
    "    \n",
    "    # Transform correlation coefficient: rho = tanh(rho_t)\n",
    "    rho = jnp.tanh(rho_transformed)\n",
    "    \n",
    "    # Construct covariance matrix\n",
    "    cov = jnp.array([\n",
    "        [sigma1**2, rho * sigma1 * sigma2],\n",
    "        [rho * sigma1 * sigma2, sigma2**2]\n",
    "    ])\n",
    "    \n",
    "    # Check positive definiteness\n",
    "    det = jnp.linalg.det(cov)\n",
    "    \n",
    "    # Return -inf for invalid covariance matrices\n",
    "    def valid_loglik():\n",
    "        mu = jnp.array([mu1, mu2])\n",
    "        return jnp.sum(jax.scipy.stats.multivariate_normal.logpdf(gaussian_data, mu, cov))\n",
    "    \n",
    "    def invalid_loglik():\n",
    "        return -jnp.inf\n",
    "    \n",
    "    return jax.lax.cond(det > 1e-8, valid_loglik, invalid_loglik)"
   ]
  },
  {
   "cell_type": "markdown",
   "id": "ecdf6271",
   "metadata": {},
   "source": [
    "### 2.5 Set Up Priors for 2D Gaussian"
   ]
  },
  {
   "cell_type": "code",
   "execution_count": 18,
   "id": "038bd97f",
   "metadata": {
    "execution": {
     "iopub.execute_input": "2025-05-29T14:37:42.535523Z",
     "iopub.status.busy": "2025-05-29T14:37:42.535299Z",
     "iopub.status.idle": "2025-05-29T14:37:42.537779Z",
     "shell.execute_reply": "2025-05-29T14:37:42.537371Z"
    }
   },
   "outputs": [],
   "source": [
    "gaussian_prior_bounds = {\n",
    "    \"mu1\": (-3.0, 5.0),\n",
    "    \"mu2\": (-3.0, 3.0), \n",
    "    \"sigma1\": (0.1, 3.0),\n",
    "    \"sigma2\": (0.1, 3.0),\n",
    "    \"rho_t\": (-2.0, 2.0),  # transformed correlation: rho = tanh(rho_t)\n",
    "}\n",
    "\n",
    "num_dims_2d = len(gaussian_prior_bounds)\n",
    "num_inner_steps_2d = num_dims_2d * 5"
   ]
  },
  {
   "cell_type": "markdown",
   "id": "21409a74",
   "metadata": {},
   "source": [
    "### 2.6 Initialize and Run Nested Sampling"
   ]
  },
  {
   "cell_type": "code",
   "execution_count": 19,
   "id": "0db96cac",
   "metadata": {
    "execution": {
     "iopub.execute_input": "2025-05-29T14:37:42.539023Z",
     "iopub.status.busy": "2025-05-29T14:37:42.538787Z",
     "iopub.status.idle": "2025-05-29T14:37:47.480409Z",
     "shell.execute_reply": "2025-05-29T14:37:47.479827Z"
    }
   },
   "outputs": [
    {
     "name": "stdout",
     "output_type": "stream",
     "text": [
      "Running nested sampling for 2D Gaussian...\n"
     ]
    },
    {
     "name": "stderr",
     "output_type": "stream",
     "text": [
      "\r",
      "Dead points: 0 dead points [00:00, ? dead points/s]"
     ]
    },
    {
     "name": "stderr",
     "output_type": "stream",
     "text": [
      "\r",
      "Dead points: 50 dead points [00:03, 15.02 dead points/s]"
     ]
    },
    {
     "name": "stderr",
     "output_type": "stream",
     "text": [
      "\r",
      "Dead points: 250 dead points [00:03, 95.73 dead points/s]"
     ]
    },
    {
     "name": "stderr",
     "output_type": "stream",
     "text": [
      "\r",
      "Dead points: 450 dead points [00:03, 198.72 dead points/s]"
     ]
    },
    {
     "name": "stderr",
     "output_type": "stream",
     "text": [
      "\r",
      "Dead points: 650 dead points [00:03, 325.80 dead points/s]"
     ]
    },
    {
     "name": "stderr",
     "output_type": "stream",
     "text": [
      "\r",
      "Dead points: 850 dead points [00:03, 476.32 dead points/s]"
     ]
    },
    {
     "name": "stderr",
     "output_type": "stream",
     "text": [
      "\r",
      "Dead points: 1050 dead points [00:03, 645.72 dead points/s]"
     ]
    },
    {
     "name": "stderr",
     "output_type": "stream",
     "text": [
      "\r",
      "Dead points: 1250 dead points [00:04, 824.48 dead points/s]"
     ]
    },
    {
     "name": "stderr",
     "output_type": "stream",
     "text": [
      "\r",
      "Dead points: 1400 dead points [00:04, 339.60 dead points/s]"
     ]
    },
    {
     "name": "stderr",
     "output_type": "stream",
     "text": [
      "\n"
     ]
    }
   ],
   "source": [
    "rng_key, prior_key = jax.random.split(rng_key)\n",
    "particles_2d, logprior_fn_2d = blackjax.ns.utils.uniform_prior(prior_key, num_live, gaussian_prior_bounds)\n",
    "\n",
    "nested_sampler_2d = blackjax.nss(\n",
    "    logprior_fn=logprior_fn_2d,\n",
    "    loglikelihood_fn=gaussian_2d_loglikelihood,\n",
    "    num_delete=num_delete,\n",
    "    num_inner_steps=num_inner_steps_2d,\n",
    ")\n",
    "\n",
    "init_fn_2d = jax.jit(nested_sampler_2d.init)\n",
    "step_fn_2d = jax.jit(nested_sampler_2d.step)\n",
    "\n",
    "print(\"Running nested sampling for 2D Gaussian...\")\n",
    "live_2d = init_fn_2d(particles_2d)\n",
    "dead_2d = []\n",
    "\n",
    "with tqdm.tqdm(desc=\"Dead points\", unit=\" dead points\") as pbar:\n",
    "    while not live_2d.logZ_live - live_2d.logZ < -3:\n",
    "        rng_key, subkey = jax.random.split(rng_key, 2)\n",
    "        live_2d, dead_info_2d = step_fn_2d(subkey, live_2d)\n",
    "        dead_2d.append(dead_info_2d)\n",
    "        pbar.update(num_delete)\n",
    "\n",
    "dead_2d = blackjax.ns.utils.finalise(live_2d, dead_2d)"
   ]
  },
  {
   "cell_type": "markdown",
   "id": "ad45ef28",
   "metadata": {},
   "source": [
    "### 2.7 Transform Back and Analyze Results"
   ]
  },
  {
   "cell_type": "code",
   "execution_count": 20,
   "id": "2e774892",
   "metadata": {
    "execution": {
     "iopub.execute_input": "2025-05-29T14:37:47.482150Z",
     "iopub.status.busy": "2025-05-29T14:37:47.481985Z",
     "iopub.status.idle": "2025-05-29T14:37:47.552078Z",
     "shell.execute_reply": "2025-05-29T14:37:47.551670Z"
    }
   },
   "outputs": [],
   "source": [
    "columns_2d = [\"mu1\", \"mu2\", \"sigma1\", \"sigma2\", \"rho_t\"]\n",
    "labels_2d = [r\"$\\mu_1$\", r\"$\\mu_2$\", r\"$\\sigma_1$\", r\"$\\sigma_2$\", r\"$\\rho_t$\"]\n",
    "data_2d = jnp.vstack([dead_2d.particles[key] for key in columns_2d]).T\n",
    "\n",
    "gaussian_samples = NestedSamples(\n",
    "    data_2d,\n",
    "    logL=dead_2d.loglikelihood,\n",
    "    logL_birth=dead_2d.loglikelihood_birth,\n",
    "    columns=columns_2d,\n",
    "    labels=labels_2d,\n",
    "    logzero=jnp.nan,\n",
    ")"
   ]
  },
  {
   "cell_type": "markdown",
   "id": "d274d362",
   "metadata": {},
   "source": [
    "Add transformed correlation coefficient"
   ]
  },
  {
   "cell_type": "code",
   "execution_count": 21,
   "id": "6e078896",
   "metadata": {
    "execution": {
     "iopub.execute_input": "2025-05-29T14:37:47.553624Z",
     "iopub.status.busy": "2025-05-29T14:37:47.553295Z",
     "iopub.status.idle": "2025-05-29T14:37:47.616120Z",
     "shell.execute_reply": "2025-05-29T14:37:47.615640Z"
    }
   },
   "outputs": [
    {
     "name": "stdout",
     "output_type": "stream",
     "text": [
      "Log Evidence: -528.61 ± 0.44\n",
      "True parameters: μ₁=1.00, μ₂=-0.50, σ₁=1.20, σ₂=0.80, ρ=0.60\n",
      "Posterior means: μ₁=1.06, μ₂=-0.38, σ₁=1.27, σ₂=0.80, ρ=0.64\n"
     ]
    }
   ],
   "source": [
    "gaussian_samples[\"rho\"] = jnp.tanh(gaussian_samples[\"rho_t\"].values)\n",
    "\n",
    "print(f\"Log Evidence: {gaussian_samples.logZ():.2f} ± {gaussian_samples.logZ(100).std():.2f}\")\n",
    "print(f\"True parameters: μ₁={true['mu1']:.2f}, μ₂={true['mu2']:.2f}, σ₁={true['sigma1']:.2f}, σ₂={true['sigma2']:.2f}, ρ={true['rho']:.2f}\")\n",
    "print(f\"Posterior means: μ₁={gaussian_samples.mu1.mean():.2f}, μ₂={gaussian_samples.mu2.mean():.2f}, σ₁={gaussian_samples.sigma1.mean():.2f}, σ₂={gaussian_samples.sigma2.mean():.2f}, ρ={gaussian_samples.rho.mean():.2f}\")"
   ]
  },
  {
   "cell_type": "markdown",
   "id": "f31ca1bd",
   "metadata": {},
   "source": [
    "Plot posterior for key parameters with true values"
   ]
  },
  {
   "cell_type": "code",
   "execution_count": 22,
   "id": "3781485a",
   "metadata": {
    "execution": {
     "iopub.execute_input": "2025-05-29T14:37:47.617570Z",
     "iopub.status.busy": "2025-05-29T14:37:47.617426Z",
     "iopub.status.idle": "2025-05-29T14:37:50.226628Z",
     "shell.execute_reply": "2025-05-29T14:37:50.225958Z"
    }
   },
   "outputs": [
    {
     "data": {
      "text/plain": [
       "Text(0.5, 0.98, '2D Gaussian: Posterior Parameter Estimates')"
      ]
     },
     "execution_count": 22,
     "metadata": {},
     "output_type": "execute_result"
    },
    {
     "data": {
      "image/png": "[encoded data removed]",
      "text/plain": [
       "<Figure size 640x480 with 20 Axes>"
      ]
     },
     "metadata": {},
     "output_type": "display_data"
    }
   ],
   "source": [
    "key_params = [\"mu1\", \"mu2\", \"sigma1\", \"sigma2\", \"rho\"]\n",
    "axes = gaussian_samples[key_params].plot_2d(key_params, kinds={'diagonal': 'hist_1d', 'lower': 'kde_2d'})\n",
    "\n",
    "# Mark true values using anesthetic's axlines method\n",
    "true_2d = {k: true[k] for k in key_params}\n",
    "axes.axlines(true_2d, color='red', linestyle='--', alpha=0.8)\n",
    "plt.suptitle(\"2D Gaussian: Posterior Parameter Estimates\")"
   ]
  },
  {
   "cell_type": "markdown",
   "id": "1b9d27d1",
   "metadata": {},
   "source": [
    "## Part 3: Performance Comparison\n",
    "\n",
    " Compare BlackJAX nested sampling with NUTS (No-U-Turn Sampler) and \n",
    " Affine Invariant Ensemble Sampler on the line fitting problem"
   ]
  },
  {
   "cell_type": "code",
   "execution_count": 23,
   "id": "7f1ddd50",
   "metadata": {
    "execution": {
     "iopub.execute_input": "2025-05-29T14:37:50.229126Z",
     "iopub.status.busy": "2025-05-29T14:37:50.228812Z",
     "iopub.status.idle": "2025-05-29T14:37:50.232447Z",
     "shell.execute_reply": "2025-05-29T14:37:50.231674Z"
    }
   },
   "outputs": [],
   "source": [
    "import time"
   ]
  },
  {
   "cell_type": "markdown",
   "id": "38b9cd04",
   "metadata": {},
   "source": [
    "### 3.1 Define NUTS Log-Probability Function"
   ]
  },
  {
   "cell_type": "code",
   "execution_count": 24,
   "id": "09bd9fdc",
   "metadata": {
    "execution": {
     "iopub.execute_input": "2025-05-29T14:37:50.234820Z",
     "iopub.status.busy": "2025-05-29T14:37:50.234539Z",
     "iopub.status.idle": "2025-05-29T14:37:50.239290Z",
     "shell.execute_reply": "2025-05-29T14:37:50.238740Z"
    }
   },
   "outputs": [],
   "source": [
    "def nuts_logprob(params_array):\n",
    "    \"\"\"Combined log probability for NUTS (assumes flat priors within bounds).\"\"\"\n",
    "    m, c, log_sigma = params_array\n",
    "    sigma = jnp.exp(log_sigma)  # positive constraint via log transform\n",
    "    \n",
    "    # Check bounds (flat prior)\n",
    "    m_valid = (m >= -5.0) & (m <= 5.0)\n",
    "    c_valid = (c >= -5.0) & (c <= 5.0)\n",
    "    sigma_valid = (sigma >= 0.1) & (sigma <= 2.0)\n",
    "    \n",
    "    def valid_logprob():\n",
    "        y_model = m * x + c\n",
    "        loglik = jax.scipy.stats.multivariate_normal.logpdf(y, y_model, sigma**2)\n",
    "        return loglik + log_sigma  # Add Jacobian for log transform\n",
    "    \n",
    "    def invalid_logprob():\n",
    "        return -jnp.inf\n",
    "    \n",
    "    return jax.lax.cond(m_valid & c_valid & sigma_valid, valid_logprob, invalid_logprob)"
   ]
  },
  {
   "cell_type": "markdown",
   "id": "05ce8380",
   "metadata": {},
   "source": [
    "### 3.2 Initialize and Run NUTS Sampler"
   ]
  },
  {
   "cell_type": "code",
   "execution_count": 25,
   "id": "0c42df3d",
   "metadata": {
    "execution": {
     "iopub.execute_input": "2025-05-29T14:37:50.241580Z",
     "iopub.status.busy": "2025-05-29T14:37:50.241359Z",
     "iopub.status.idle": "2025-05-29T14:37:52.697017Z",
     "shell.execute_reply": "2025-05-29T14:37:52.696257Z"
    }
   },
   "outputs": [
    {
     "name": "stdout",
     "output_type": "stream",
     "text": [
      "Running NUTS sampler...\n"
     ]
    },
    {
     "name": "stderr",
     "output_type": "stream",
     "text": [
      "\r",
      "NUTS:   0%|          | 0/2000 [00:00<?, ?it/s]"
     ]
    },
    {
     "name": "stderr",
     "output_type": "stream",
     "text": [
      "\r",
      "NUTS:   0%|          | 1/2000 [00:01<38:02,  1.14s/it]"
     ]
    },
    {
     "name": "stderr",
     "output_type": "stream",
     "text": [
      "\r",
      "NUTS:  19%|█▉        | 381/2000 [00:01<00:03, 423.28it/s]"
     ]
    },
    {
     "name": "stderr",
     "output_type": "stream",
     "text": [
      "\r",
      "NUTS:  38%|███▊      | 760/2000 [00:01<00:01, 884.57it/s]"
     ]
    },
    {
     "name": "stderr",
     "output_type": "stream",
     "text": [
      "\r",
      "NUTS:  58%|█████▊    | 1156/2000 [00:01<00:00, 1387.99it/s]"
     ]
    },
    {
     "name": "stderr",
     "output_type": "stream",
     "text": [
      "\r",
      "NUTS:  77%|███████▋  | 1546/2000 [00:01<00:00, 1863.85it/s]"
     ]
    },
    {
     "name": "stderr",
     "output_type": "stream",
     "text": [
      "\r",
      "NUTS:  97%|█████████▋| 1937/2000 [00:01<00:00, 2299.68it/s]"
     ]
    },
    {
     "name": "stderr",
     "output_type": "stream",
     "text": [
      "\r",
      "NUTS: 100%|██████████| 2000/2000 [00:01<00:00, 1200.07it/s]"
     ]
    },
    {
     "name": "stderr",
     "output_type": "stream",
     "text": [
      "\n"
     ]
    }
   ],
   "source": [
    "initial_position = jnp.array([1.0, 0.0, jnp.log(1.0)])  # [m, c, log_sigma]\n",
    "nuts = blackjax.nuts(nuts_logprob, step_size=0.1, inverse_mass_matrix=jnp.eye(3))\n",
    "\n",
    "rng_key, nuts_key = jax.random.split(rng_key)\n",
    "nuts_state = nuts.init(initial_position)\n",
    "nuts_step = jax.jit(nuts.step)\n",
    "\n",
    "print(\"Running NUTS sampler...\")\n",
    "\n",
    "num_nuts_samples = 2000\n",
    "nuts_start = time.time()\n",
    "nuts_samples = []\n",
    "nuts_states = nuts_state\n",
    "\n",
    "for i in tqdm.tqdm(range(num_nuts_samples), desc=\"NUTS\"):\n",
    "    nuts_key, step_key = jax.random.split(nuts_key)\n",
    "    nuts_states, nuts_info = nuts_step(step_key, nuts_states)\n",
    "    nuts_samples.append(nuts_states.position)\n",
    "\n",
    "nuts_time = time.time() - nuts_start\n",
    "nuts_samples = jnp.stack(nuts_samples)"
   ]
  },
  {
   "cell_type": "markdown",
   "id": "5e1faf83",
   "metadata": {},
   "source": [
    "### 3.3 Process NUTS Results"
   ]
  },
  {
   "cell_type": "code",
   "execution_count": 26,
   "id": "2b6df5d5",
   "metadata": {
    "execution": {
     "iopub.execute_input": "2025-05-29T14:37:52.700041Z",
     "iopub.status.busy": "2025-05-29T14:37:52.699809Z",
     "iopub.status.idle": "2025-05-29T14:37:52.833068Z",
     "shell.execute_reply": "2025-05-29T14:37:52.832488Z"
    }
   },
   "outputs": [
    {
     "name": "stdout",
     "output_type": "stream",
     "text": [
      "NUTS runtime: 1.67 seconds\n",
      "NUTS means: m=1.98, c=1.11, σ=0.60\n"
     ]
    }
   ],
   "source": [
    "nuts_m = nuts_samples[:, 0]\n",
    "nuts_c = nuts_samples[:, 1] \n",
    "nuts_sigma = jnp.exp(nuts_samples[:, 2])\n",
    "\n",
    "print(f\"NUTS runtime: {nuts_time:.2f} seconds\")\n",
    "print(f\"NUTS means: m={nuts_m[500:].mean():.2f}, c={nuts_c[500:].mean():.2f}, σ={nuts_sigma[500:].mean():.2f}\")"
   ]
  },
  {
   "cell_type": "markdown",
   "id": "d463df93",
   "metadata": {},
   "source": [
    "### 3.4 Performance Summary and Visualization"
   ]
  },
  {
   "cell_type": "code",
   "execution_count": 27,
   "id": "70466862",
   "metadata": {
    "execution": {
     "iopub.execute_input": "2025-05-29T14:37:52.834929Z",
     "iopub.status.busy": "2025-05-29T14:37:52.834700Z",
     "iopub.status.idle": "2025-05-29T14:37:52.839019Z",
     "shell.execute_reply": "2025-05-29T14:37:52.838453Z"
    }
   },
   "outputs": [
    {
     "name": "stdout",
     "output_type": "stream",
     "text": [
      "Method               Time            Evidence        GPU Parallel\n",
      "-----------------------------------------------------------------\n",
      "Nested Sampling      3.0 sec         ✓ (Log Z available) ✓ (GPU native)\n",
      "NUTS                 1.7 sec         ✗ (Not computed) Limited\n"
     ]
    }
   ],
   "source": [
    "methods = [\"Nested Sampling\", \"NUTS\"]\n",
    "times = [f\"{ns_time:.1f} sec\", f\"{nuts_time:.1f} sec\"]\n",
    "evidence = [\"✓ (Log Z available)\", \"✗ (Not computed)\"]\n",
    "parallelization = [\"✓ (GPU native)\", \"Limited\"]\n",
    "\n",
    "print(f\"{'Method':<20} {'Time':<15} {'Evidence':<15} {'GPU Parallel'}\")\n",
    "print(\"-\" * 65)\n",
    "for i in range(len(methods)):\n",
    "    print(f\"{methods[i]:<20} {times[i]:<15} {evidence[i]:<15} {parallelization[i]}\")"
   ]
  },
  {
   "cell_type": "markdown",
   "id": "51c09e9d",
   "metadata": {},
   "source": [
    "### 3.5 Posterior Comparison Plot"
   ]
  },
  {
   "cell_type": "code",
   "execution_count": 28,
   "id": "61c0fbee",
   "metadata": {
    "execution": {
     "iopub.execute_input": "2025-05-29T14:37:52.841763Z",
     "iopub.status.busy": "2025-05-29T14:37:52.841467Z",
     "iopub.status.idle": "2025-05-29T14:37:53.010707Z",
     "shell.execute_reply": "2025-05-29T14:37:53.010288Z"
    }
   },
   "outputs": [
    {
     "data": {
      "image/png": "[encoded data removed]",
      "text/plain": [
       "<Figure size 1500x400 with 3 Axes>"
      ]
     },
     "metadata": {},
     "output_type": "display_data"
    }
   ],
   "source": [
    "fig, axes = plt.subplots(1, 3, figsize=(15, 4))"
   ]
  },
  {
   "cell_type": "markdown",
   "id": "996e4935",
   "metadata": {},
   "source": [
    "Generate proper posterior samples from NestedSamples (not raw dead points)\n",
    " Use the number of available samples or 1000, whichever is smaller"
   ]
  },
  {
   "cell_type": "code",
   "execution_count": 29,
   "id": "772ef972",
   "metadata": {
    "execution": {
     "iopub.execute_input": "2025-05-29T14:37:53.012219Z",
     "iopub.status.busy": "2025-05-29T14:37:53.012019Z",
     "iopub.status.idle": "2025-05-29T14:37:53.015238Z",
     "shell.execute_reply": "2025-05-29T14:37:53.014916Z"
    }
   },
   "outputs": [],
   "source": [
    "n_posterior_samples = min(1000, len(line_samples))\n",
    "ns_posterior_samples = line_samples.sample(n_posterior_samples, replace=True)  # Sample from posterior with replacement\n",
    "nuts_burnin = 500  # Remove burn-in"
   ]
  },
  {
   "cell_type": "markdown",
   "id": "e442251c",
   "metadata": {},
   "source": [
    "Compare marginal posteriors"
   ]
  },
  {
   "cell_type": "code",
   "execution_count": 30,
   "id": "ca37f66e",
   "metadata": {
    "execution": {
     "iopub.execute_input": "2025-05-29T14:37:53.016712Z",
     "iopub.status.busy": "2025-05-29T14:37:53.016499Z",
     "iopub.status.idle": "2025-05-29T14:37:53.106100Z",
     "shell.execute_reply": "2025-05-29T14:37:53.105676Z"
    }
   },
   "outputs": [
    {
     "data": {
      "text/plain": [
       "Text(0.5, 1.02, 'Posterior Comparison: Nested Sampling vs NUTS')"
      ]
     },
     "execution_count": 30,
     "metadata": {},
     "output_type": "execute_result"
    },
    {
     "data": {
      "text/plain": [
       "<Figure size 640x480 with 0 Axes>"
      ]
     },
     "metadata": {},
     "output_type": "display_data"
    }
   ],
   "source": [
    "axes[0].hist(ns_posterior_samples.m.values, bins=30, alpha=0.7, density=True, label='Nested Sampling')\n",
    "axes[0].hist(nuts_m[nuts_burnin:], bins=30, alpha=0.7, density=True, label='NUTS')\n",
    "axes[0].axvline(true['m'], color='red', linestyle='--', label='True value')\n",
    "axes[0].set_xlabel('Slope (m)')\n",
    "axes[0].set_ylabel('Density')\n",
    "axes[0].legend()\n",
    "\n",
    "axes[1].hist(ns_posterior_samples.c.values, bins=30, alpha=0.7, density=True, label='Nested Sampling')\n",
    "axes[1].hist(nuts_c[nuts_burnin:], bins=30, alpha=0.7, density=True, label='NUTS')\n",
    "axes[1].axvline(true['c'], color='red', linestyle='--', label='True value')\n",
    "axes[1].set_xlabel('Intercept (c)')\n",
    "axes[1].set_ylabel('Density')\n",
    "axes[1].legend()\n",
    "\n",
    "axes[2].hist(ns_posterior_samples.sigma.values, bins=30, alpha=0.7, density=True, label='Nested Sampling')\n",
    "axes[2].hist(nuts_sigma[nuts_burnin:], bins=30, alpha=0.7, density=True, label='NUTS')\n",
    "axes[2].axvline(true['sigma'], color='red', linestyle='--', label='True value')\n",
    "axes[2].set_xlabel('Noise (σ)')\n",
    "axes[2].set_ylabel('Density')\n",
    "axes[2].legend()\n",
    "\n",
    "plt.tight_layout()\n",
    "plt.suptitle(\"Posterior Comparison: Nested Sampling vs NUTS\", y=1.02)"
   ]
  }
 ],
 "metadata": {
  "language_info": {
   "codemirror_mode": {
    "name": "ipython",
    "version": 3
   },
   "file_extension": ".py",
   "mimetype": "text/x-python",
   "name": "python",
   "nbconvert_exporter": "python",
   "pygments_lexer": "ipython3",
   "version": "3.13.3"
  }
 },
 "nbformat": 4,
 "nbformat_minor": 5
}
